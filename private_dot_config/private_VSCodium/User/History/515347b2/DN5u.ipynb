{
 "cells": [
  {
   "cell_type": "markdown",
   "metadata": {},
   "source": [
    "# Hydromet\n"
   ]
  },
  {
   "cell_type": "markdown",
   "metadata": {},
   "source": [
    "## Import data"
   ]
  },
  {
   "cell_type": "code",
   "execution_count": 1,
   "metadata": {},
   "outputs": [],
   "source": [
    "import warnings\n",
    "warnings.simplefilter(action='ignore', category=FutureWarning)\n",
    "import numpy as np\n",
    "import pandas as pd\n",
    "import glob\n",
    "import matplotlib.pyplot as plt\n",
    "from dotenv import load_dotenv\n",
    "import ftplib\n",
    "plt.rcParams[\"figure.figsize\"] = (20,16)"
   ]
  },
  {
   "cell_type": "code",
   "execution_count": 12,
   "metadata": {},
   "outputs": [],
   "source": [
    "    \n",
    "def download_files(folder_local, folder_server):\n",
    "    load_dotenv()\n",
    "    with ftplib.FTP(os.getenv(\"FTP_SERVER\"), os.getenv(\"FTP_USERNAME\"), os.getenv(\"FTP_PASSWORD\")) as ftp:\n",
    "        ftp.cwd(folder_server)\n",
    "        filenames = ftp.nlst()\n",
    "  \n",
    "        for filename in filenames:\n",
    "\n",
    "            with open(f\"../data/\" + folder_local + \"/\" + filename, \"ab\") as file:\n",
    "                # Command for Downloading the file \"RETR filename\"\n",
    "                ftp.retrbinary('RETR ' + filename, file.write)\n",
    "\n",
    "\n",
    "    \n",
    "    \n",
    "def get_values(path:str):\n",
    "    \n",
    "    df = pd.read_csv(path, sep=\";\" )\n",
    "    df = df[df.columns[1::2]]\n",
    "    df = pd.DataFrame.transpose(df)   \n",
    "    df = df.dropna(axis=0, how='all')\n",
    "    df = pd.DataFrame.transpose(df)   \n",
    "\n",
    "    df.columns.values[0] = 'time_temp'\n",
    "    print(df['time_temp'])\n",
    "    df['time_temp'] = df['time_temp'].astype(str)\n",
    "    print(df['time_temp'])\n",
    "    df['time_temp'] = df['time_temp'].astype(int)\n",
    "    print(df['time_temp'])\n",
    "    df['time_temp'] = df['time_temp'].astype(str)\n",
    "    \n",
    "    temp = pd.to_datetime(df['time_temp'], format='%y%m%d%H%M%S')\n",
    "    df = df.loc[ : , df.columns != 'time_temp'].apply(pd.to_numeric, errors = 'coerce')\n",
    "\n",
    "    df = df.iloc[:, :-1]\n",
    "    \n",
    "    df[\"datetime\"] = temp\n",
    "    \n",
    "    return df\n",
    "\n",
    "def outliers(df, feature):\n",
    "    Q1= df[feature].quantile(0.25)\n",
    "    Q3 = df[feature].quantile(0.75)\n",
    "    IQR = Q3 - Q1\n",
    "    upper_limit = Q3 + 1.5 * IQR\n",
    "    lower_limit = Q1 - 1.5 * IQR\n",
    "    return upper_limit, lower_limit\n",
    "\n",
    "def make_dataframe(folder_local, folder_server, start_date):\n",
    "    \n",
    "    start=True\n",
    "    df=None\n",
    "    for filename in glob.glob(folder_local +\"*.txt\"):\n",
    "        date=int(filename[filename.index(\"_\", -20, -1)+1:filename.index(\"_\", -15, -1)])\n",
    "\n",
    "        if start:\n",
    "            df = get_values(filename) \n",
    "            start =False\n",
    "        else:\n",
    "            to_append = get_values(filename) \n",
    "            df = df.append(to_append, ignore_index=True)\n",
    "    if df is  None:\n",
    "        return None\n",
    "    print(df)\n",
    "    col_names = [  \"AVGVi\",\"AVGCi\",\"OCi\",\"Temp4\",\"NTU4\", \"Turb4\",\"Temp3\",\"Conductivity\", \"A_samp\", \"Samples\", \"P1\", \"RWL\", \"geolux_TIS\", \"geolux_TW\", \"geolux_x\", \"geolux_y\", \"geolux_p_7\", \"datetime\"]\n",
    "\n",
    "    for i in range(len(col_names)):\n",
    "        df.columns.values[i] = col_names[i]\n",
    "        \n",
    "    df = df.set_index('datetime')\n",
    "    return df    \n"
   ]
  },
  {
   "cell_type": "code",
   "execution_count": 13,
   "metadata": {},
   "outputs": [
    {
     "name": "stdout",
     "output_type": "stream",
     "text": [
      "      time_temp     V  Average current    OCi     sec  Temperature    NTU4  \\\n",
      "0  2.208241e+11  3.13            147.0  44.40  18.779       61.576  61.576   \n",
      "1  2.208241e+11  3.15             83.0  25.55  18.758       61.355  61.355   \n",
      "2  2.208241e+11  3.15             83.0  23.20  18.723       60.978  60.978   \n",
      "3  2.208241e+11  3.15             83.0  25.55  18.694       60.660  60.660   \n",
      "4  2.208241e+11  3.15             83.0  23.20  18.681       60.191  60.191   \n",
      "5  2.208241e+11  3.14            126.0  32.30  18.641       59.943  59.943   \n",
      "\n",
      "      NTU  Turbidity2  Temp3  Unnamed: 21  Conductivity  A_samp  Unnamed: 27  \\\n",
      "0  18.576      962.66  0.203          1.0       -2212.6  2212.6         16.0   \n",
      "1  18.560      963.46  0.198          1.0       -2211.7  2211.7         16.0   \n",
      "2  18.538      964.40  0.185          1.0       -2210.4  2210.4         16.0   \n",
      "3  18.515      963.81  0.179          1.0       -2210.8  2210.8         16.0   \n",
      "4  18.495      962.80  0.186          1.0       -2211.0  2211.0         16.0   \n",
      "5  18.460      963.78  0.181          1.0       -2211.1  2211.1         16.0   \n",
      "\n",
      "   Satellites  LAT  deg  Longitude  Samples  \n",
      "0         0.0 -3.0  1.0       45.0    2.978  \n",
      "1         0.0 -3.0  1.0       49.0    1.415  \n",
      "2         0.0 -3.0  1.0       48.0    2.042  \n",
      "3         0.0 -3.0  1.0       50.0    2.586  \n",
      "4         0.0 -3.0  1.0       48.0    2.179  \n",
      "5         0.0 -3.0  1.0       50.0    2.518  \n"
     ]
    },
    {
     "ename": "ValueError",
     "evalue": "invalid literal for int() with base 10: '220824051021.0'",
     "output_type": "error",
     "traceback": [
      "\u001b[0;31m---------------------------------------------------------------------------\u001b[0m",
      "\u001b[0;31mValueError\u001b[0m                                Traceback (most recent call last)",
      "\u001b[1;32m/home/eragon/repos/fluves/pyiotdataflow/notebooks/hydromet.ipynb Cell 5\u001b[0m in \u001b[0;36m<cell line: 7>\u001b[0;34m()\u001b[0m\n\u001b[1;32m      <a href='vscode-notebook-cell:/home/eragon/repos/fluves/pyiotdataflow/notebooks/hydromet.ipynb#W4sZmlsZQ%3D%3D?line=3'>4</a>\u001b[0m start_date\u001b[39m=\u001b[39m\u001b[39m220822\u001b[39m\n\u001b[1;32m      <a href='vscode-notebook-cell:/home/eragon/repos/fluves/pyiotdataflow/notebooks/hydromet.ipynb#W4sZmlsZQ%3D%3D?line=4'>5</a>\u001b[0m \u001b[39m# Read all files\u001b[39;00m\n\u001b[1;32m      <a href='vscode-notebook-cell:/home/eragon/repos/fluves/pyiotdataflow/notebooks/hydromet.ipynb#W4sZmlsZQ%3D%3D?line=5'>6</a>\u001b[0m \u001b[39m#download_files(folder_local, folder_server)\u001b[39;00m\n\u001b[0;32m----> <a href='vscode-notebook-cell:/home/eragon/repos/fluves/pyiotdataflow/notebooks/hydromet.ipynb#W4sZmlsZQ%3D%3D?line=6'>7</a>\u001b[0m df \u001b[39m=\u001b[39m make_dataframe(folder_local, folder_server, start_date)\n\u001b[1;32m      <a href='vscode-notebook-cell:/home/eragon/repos/fluves/pyiotdataflow/notebooks/hydromet.ipynb#W4sZmlsZQ%3D%3D?line=7'>8</a>\u001b[0m df\n",
      "\u001b[1;32m/home/eragon/repos/fluves/pyiotdataflow/notebooks/hydromet.ipynb Cell 5\u001b[0m in \u001b[0;36mmake_dataframe\u001b[0;34m(folder_local, folder_server, start_date)\u001b[0m\n\u001b[1;32m     <a href='vscode-notebook-cell:/home/eragon/repos/fluves/pyiotdataflow/notebooks/hydromet.ipynb#W4sZmlsZQ%3D%3D?line=51'>52</a>\u001b[0m date\u001b[39m=\u001b[39m\u001b[39mint\u001b[39m(filename[filename\u001b[39m.\u001b[39mindex(\u001b[39m\"\u001b[39m\u001b[39m_\u001b[39m\u001b[39m\"\u001b[39m, \u001b[39m-\u001b[39m\u001b[39m20\u001b[39m, \u001b[39m-\u001b[39m\u001b[39m1\u001b[39m)\u001b[39m+\u001b[39m\u001b[39m1\u001b[39m:filename\u001b[39m.\u001b[39mindex(\u001b[39m\"\u001b[39m\u001b[39m_\u001b[39m\u001b[39m\"\u001b[39m, \u001b[39m-\u001b[39m\u001b[39m15\u001b[39m, \u001b[39m-\u001b[39m\u001b[39m1\u001b[39m)])\n\u001b[1;32m     <a href='vscode-notebook-cell:/home/eragon/repos/fluves/pyiotdataflow/notebooks/hydromet.ipynb#W4sZmlsZQ%3D%3D?line=53'>54</a>\u001b[0m \u001b[39mif\u001b[39;00m start:\n\u001b[0;32m---> <a href='vscode-notebook-cell:/home/eragon/repos/fluves/pyiotdataflow/notebooks/hydromet.ipynb#W4sZmlsZQ%3D%3D?line=54'>55</a>\u001b[0m     df \u001b[39m=\u001b[39m get_values(filename) \n\u001b[1;32m     <a href='vscode-notebook-cell:/home/eragon/repos/fluves/pyiotdataflow/notebooks/hydromet.ipynb#W4sZmlsZQ%3D%3D?line=55'>56</a>\u001b[0m     start \u001b[39m=\u001b[39m\u001b[39mFalse\u001b[39;00m\n\u001b[1;32m     <a href='vscode-notebook-cell:/home/eragon/repos/fluves/pyiotdataflow/notebooks/hydromet.ipynb#W4sZmlsZQ%3D%3D?line=56'>57</a>\u001b[0m \u001b[39melse\u001b[39;00m:\n",
      "\u001b[1;32m/home/eragon/repos/fluves/pyiotdataflow/notebooks/hydromet.ipynb Cell 5\u001b[0m in \u001b[0;36mget_values\u001b[0;34m(path)\u001b[0m\n\u001b[1;32m     <a href='vscode-notebook-cell:/home/eragon/repos/fluves/pyiotdataflow/notebooks/hydromet.ipynb#W4sZmlsZQ%3D%3D?line=24'>25</a>\u001b[0m \u001b[39mprint\u001b[39m(df)\n\u001b[1;32m     <a href='vscode-notebook-cell:/home/eragon/repos/fluves/pyiotdataflow/notebooks/hydromet.ipynb#W4sZmlsZQ%3D%3D?line=25'>26</a>\u001b[0m df[\u001b[39m'\u001b[39m\u001b[39mtime_temp\u001b[39m\u001b[39m'\u001b[39m] \u001b[39m=\u001b[39m df[\u001b[39m'\u001b[39m\u001b[39mtime_temp\u001b[39m\u001b[39m'\u001b[39m]\u001b[39m.\u001b[39mastype(\u001b[39mstr\u001b[39m)\n\u001b[0;32m---> <a href='vscode-notebook-cell:/home/eragon/repos/fluves/pyiotdataflow/notebooks/hydromet.ipynb#W4sZmlsZQ%3D%3D?line=26'>27</a>\u001b[0m df[\u001b[39m'\u001b[39m\u001b[39mtime_temp\u001b[39m\u001b[39m'\u001b[39m] \u001b[39m=\u001b[39m df[\u001b[39m'\u001b[39;49m\u001b[39mtime_temp\u001b[39;49m\u001b[39m'\u001b[39;49m]\u001b[39m.\u001b[39;49mastype(\u001b[39mint\u001b[39;49m)\n\u001b[1;32m     <a href='vscode-notebook-cell:/home/eragon/repos/fluves/pyiotdataflow/notebooks/hydromet.ipynb#W4sZmlsZQ%3D%3D?line=27'>28</a>\u001b[0m df[\u001b[39m'\u001b[39m\u001b[39mtime_temp\u001b[39m\u001b[39m'\u001b[39m] \u001b[39m=\u001b[39m df[\u001b[39m'\u001b[39m\u001b[39mtime_temp\u001b[39m\u001b[39m'\u001b[39m]\u001b[39m.\u001b[39mastype(\u001b[39mstr\u001b[39m)\n\u001b[1;32m     <a href='vscode-notebook-cell:/home/eragon/repos/fluves/pyiotdataflow/notebooks/hydromet.ipynb#W4sZmlsZQ%3D%3D?line=29'>30</a>\u001b[0m temp \u001b[39m=\u001b[39m pd\u001b[39m.\u001b[39mto_datetime(df[\u001b[39m'\u001b[39m\u001b[39mtime_temp\u001b[39m\u001b[39m'\u001b[39m], \u001b[39mformat\u001b[39m\u001b[39m=\u001b[39m\u001b[39m'\u001b[39m\u001b[39m%\u001b[39m\u001b[39my\u001b[39m\u001b[39m%\u001b[39m\u001b[39mm\u001b[39m\u001b[39m%d\u001b[39;00m\u001b[39m%\u001b[39m\u001b[39mH\u001b[39m\u001b[39m%\u001b[39m\u001b[39mM\u001b[39m\u001b[39m%\u001b[39m\u001b[39mS\u001b[39m\u001b[39m'\u001b[39m)\n",
      "File \u001b[0;32m/opt/conda/envs/dali-intrusion-data-analysis/lib/python3.9/site-packages/pandas/core/generic.py:5912\u001b[0m, in \u001b[0;36mNDFrame.astype\u001b[0;34m(self, dtype, copy, errors)\u001b[0m\n\u001b[1;32m   5905\u001b[0m     results \u001b[39m=\u001b[39m [\n\u001b[1;32m   5906\u001b[0m         \u001b[39mself\u001b[39m\u001b[39m.\u001b[39miloc[:, i]\u001b[39m.\u001b[39mastype(dtype, copy\u001b[39m=\u001b[39mcopy)\n\u001b[1;32m   5907\u001b[0m         \u001b[39mfor\u001b[39;00m i \u001b[39min\u001b[39;00m \u001b[39mrange\u001b[39m(\u001b[39mlen\u001b[39m(\u001b[39mself\u001b[39m\u001b[39m.\u001b[39mcolumns))\n\u001b[1;32m   5908\u001b[0m     ]\n\u001b[1;32m   5910\u001b[0m \u001b[39melse\u001b[39;00m:\n\u001b[1;32m   5911\u001b[0m     \u001b[39m# else, only a single dtype is given\u001b[39;00m\n\u001b[0;32m-> 5912\u001b[0m     new_data \u001b[39m=\u001b[39m \u001b[39mself\u001b[39;49m\u001b[39m.\u001b[39;49m_mgr\u001b[39m.\u001b[39;49mastype(dtype\u001b[39m=\u001b[39;49mdtype, copy\u001b[39m=\u001b[39;49mcopy, errors\u001b[39m=\u001b[39;49merrors)\n\u001b[1;32m   5913\u001b[0m     \u001b[39mreturn\u001b[39;00m \u001b[39mself\u001b[39m\u001b[39m.\u001b[39m_constructor(new_data)\u001b[39m.\u001b[39m__finalize__(\u001b[39mself\u001b[39m, method\u001b[39m=\u001b[39m\u001b[39m\"\u001b[39m\u001b[39mastype\u001b[39m\u001b[39m\"\u001b[39m)\n\u001b[1;32m   5915\u001b[0m \u001b[39m# GH 33113: handle empty frame or series\u001b[39;00m\n",
      "File \u001b[0;32m/opt/conda/envs/dali-intrusion-data-analysis/lib/python3.9/site-packages/pandas/core/internals/managers.py:419\u001b[0m, in \u001b[0;36mBaseBlockManager.astype\u001b[0;34m(self, dtype, copy, errors)\u001b[0m\n\u001b[1;32m    418\u001b[0m \u001b[39mdef\u001b[39;00m \u001b[39mastype\u001b[39m(\u001b[39mself\u001b[39m: T, dtype, copy: \u001b[39mbool\u001b[39m \u001b[39m=\u001b[39m \u001b[39mFalse\u001b[39;00m, errors: \u001b[39mstr\u001b[39m \u001b[39m=\u001b[39m \u001b[39m\"\u001b[39m\u001b[39mraise\u001b[39m\u001b[39m\"\u001b[39m) \u001b[39m-\u001b[39m\u001b[39m>\u001b[39m T:\n\u001b[0;32m--> 419\u001b[0m     \u001b[39mreturn\u001b[39;00m \u001b[39mself\u001b[39;49m\u001b[39m.\u001b[39;49mapply(\u001b[39m\"\u001b[39;49m\u001b[39mastype\u001b[39;49m\u001b[39m\"\u001b[39;49m, dtype\u001b[39m=\u001b[39;49mdtype, copy\u001b[39m=\u001b[39;49mcopy, errors\u001b[39m=\u001b[39;49merrors)\n",
      "File \u001b[0;32m/opt/conda/envs/dali-intrusion-data-analysis/lib/python3.9/site-packages/pandas/core/internals/managers.py:304\u001b[0m, in \u001b[0;36mBaseBlockManager.apply\u001b[0;34m(self, f, align_keys, ignore_failures, **kwargs)\u001b[0m\n\u001b[1;32m    302\u001b[0m         applied \u001b[39m=\u001b[39m b\u001b[39m.\u001b[39mapply(f, \u001b[39m*\u001b[39m\u001b[39m*\u001b[39mkwargs)\n\u001b[1;32m    303\u001b[0m     \u001b[39melse\u001b[39;00m:\n\u001b[0;32m--> 304\u001b[0m         applied \u001b[39m=\u001b[39m \u001b[39mgetattr\u001b[39;49m(b, f)(\u001b[39m*\u001b[39;49m\u001b[39m*\u001b[39;49mkwargs)\n\u001b[1;32m    305\u001b[0m \u001b[39mexcept\u001b[39;00m (\u001b[39mTypeError\u001b[39;00m, \u001b[39mNotImplementedError\u001b[39;00m):\n\u001b[1;32m    306\u001b[0m     \u001b[39mif\u001b[39;00m \u001b[39mnot\u001b[39;00m ignore_failures:\n",
      "File \u001b[0;32m/opt/conda/envs/dali-intrusion-data-analysis/lib/python3.9/site-packages/pandas/core/internals/blocks.py:580\u001b[0m, in \u001b[0;36mBlock.astype\u001b[0;34m(self, dtype, copy, errors)\u001b[0m\n\u001b[1;32m    562\u001b[0m \u001b[39m\"\"\"\u001b[39;00m\n\u001b[1;32m    563\u001b[0m \u001b[39mCoerce to the new dtype.\u001b[39;00m\n\u001b[1;32m    564\u001b[0m \n\u001b[0;32m   (...)\u001b[0m\n\u001b[1;32m    576\u001b[0m \u001b[39mBlock\u001b[39;00m\n\u001b[1;32m    577\u001b[0m \u001b[39m\"\"\"\u001b[39;00m\n\u001b[1;32m    578\u001b[0m values \u001b[39m=\u001b[39m \u001b[39mself\u001b[39m\u001b[39m.\u001b[39mvalues\n\u001b[0;32m--> 580\u001b[0m new_values \u001b[39m=\u001b[39m astype_array_safe(values, dtype, copy\u001b[39m=\u001b[39;49mcopy, errors\u001b[39m=\u001b[39;49merrors)\n\u001b[1;32m    582\u001b[0m new_values \u001b[39m=\u001b[39m maybe_coerce_values(new_values)\n\u001b[1;32m    583\u001b[0m newb \u001b[39m=\u001b[39m \u001b[39mself\u001b[39m\u001b[39m.\u001b[39mmake_block(new_values)\n",
      "File \u001b[0;32m/opt/conda/envs/dali-intrusion-data-analysis/lib/python3.9/site-packages/pandas/core/dtypes/cast.py:1292\u001b[0m, in \u001b[0;36mastype_array_safe\u001b[0;34m(values, dtype, copy, errors)\u001b[0m\n\u001b[1;32m   1289\u001b[0m     dtype \u001b[39m=\u001b[39m dtype\u001b[39m.\u001b[39mnumpy_dtype\n\u001b[1;32m   1291\u001b[0m \u001b[39mtry\u001b[39;00m:\n\u001b[0;32m-> 1292\u001b[0m     new_values \u001b[39m=\u001b[39m astype_array(values, dtype, copy\u001b[39m=\u001b[39;49mcopy)\n\u001b[1;32m   1293\u001b[0m \u001b[39mexcept\u001b[39;00m (\u001b[39mValueError\u001b[39;00m, \u001b[39mTypeError\u001b[39;00m):\n\u001b[1;32m   1294\u001b[0m     \u001b[39m# e.g. astype_nansafe can fail on object-dtype of strings\u001b[39;00m\n\u001b[1;32m   1295\u001b[0m     \u001b[39m#  trying to convert to float\u001b[39;00m\n\u001b[1;32m   1296\u001b[0m     \u001b[39mif\u001b[39;00m errors \u001b[39m==\u001b[39m \u001b[39m\"\u001b[39m\u001b[39mignore\u001b[39m\u001b[39m\"\u001b[39m:\n",
      "File \u001b[0;32m/opt/conda/envs/dali-intrusion-data-analysis/lib/python3.9/site-packages/pandas/core/dtypes/cast.py:1237\u001b[0m, in \u001b[0;36mastype_array\u001b[0;34m(values, dtype, copy)\u001b[0m\n\u001b[1;32m   1234\u001b[0m     values \u001b[39m=\u001b[39m values\u001b[39m.\u001b[39mastype(dtype, copy\u001b[39m=\u001b[39mcopy)\n\u001b[1;32m   1236\u001b[0m \u001b[39melse\u001b[39;00m:\n\u001b[0;32m-> 1237\u001b[0m     values \u001b[39m=\u001b[39m astype_nansafe(values, dtype, copy\u001b[39m=\u001b[39;49mcopy)\n\u001b[1;32m   1239\u001b[0m \u001b[39m# in pandas we don't store numpy str dtypes, so convert to object\u001b[39;00m\n\u001b[1;32m   1240\u001b[0m \u001b[39mif\u001b[39;00m \u001b[39misinstance\u001b[39m(dtype, np\u001b[39m.\u001b[39mdtype) \u001b[39mand\u001b[39;00m \u001b[39missubclass\u001b[39m(values\u001b[39m.\u001b[39mdtype\u001b[39m.\u001b[39mtype, \u001b[39mstr\u001b[39m):\n",
      "File \u001b[0;32m/opt/conda/envs/dali-intrusion-data-analysis/lib/python3.9/site-packages/pandas/core/dtypes/cast.py:1154\u001b[0m, in \u001b[0;36mastype_nansafe\u001b[0;34m(arr, dtype, copy, skipna)\u001b[0m\n\u001b[1;32m   1150\u001b[0m \u001b[39melif\u001b[39;00m is_object_dtype(arr\u001b[39m.\u001b[39mdtype):\n\u001b[1;32m   1151\u001b[0m \n\u001b[1;32m   1152\u001b[0m     \u001b[39m# work around NumPy brokenness, #1987\u001b[39;00m\n\u001b[1;32m   1153\u001b[0m     \u001b[39mif\u001b[39;00m np\u001b[39m.\u001b[39missubdtype(dtype\u001b[39m.\u001b[39mtype, np\u001b[39m.\u001b[39minteger):\n\u001b[0;32m-> 1154\u001b[0m         \u001b[39mreturn\u001b[39;00m lib\u001b[39m.\u001b[39;49mastype_intsafe(arr, dtype)\n\u001b[1;32m   1156\u001b[0m     \u001b[39m# if we have a datetime/timedelta array of objects\u001b[39;00m\n\u001b[1;32m   1157\u001b[0m     \u001b[39m# then coerce to a proper dtype and recall astype_nansafe\u001b[39;00m\n\u001b[1;32m   1159\u001b[0m     \u001b[39melif\u001b[39;00m is_datetime64_dtype(dtype):\n",
      "File \u001b[0;32m/opt/conda/envs/dali-intrusion-data-analysis/lib/python3.9/site-packages/pandas/_libs/lib.pyx:668\u001b[0m, in \u001b[0;36mpandas._libs.lib.astype_intsafe\u001b[0;34m()\u001b[0m\n",
      "\u001b[0;31mValueError\u001b[0m: invalid literal for int() with base 10: '220824051021.0'"
     ]
    }
   ],
   "source": [
    "# Download files\n",
    "folder_local = \"../data/Hydromet/\"\n",
    "folder_server = \"Hydromet\"\n",
    "start_date=220822\n",
    "# Read all files\n",
    "#download_files(folder_local, folder_server)\n",
    "df = make_dataframe(folder_local, folder_server, start_date)\n",
    "df\n",
    "\n"
   ]
  },
  {
   "cell_type": "code",
   "execution_count": null,
   "metadata": {},
   "outputs": [],
   "source": [
    "df\n",
    "#df"
   ]
  },
  {
   "cell_type": "markdown",
   "metadata": {},
   "source": [
    "## Tests"
   ]
  },
  {
   "cell_type": "code",
   "execution_count": null,
   "metadata": {},
   "outputs": [],
   "source": [
    "test = get_values( \"../data/Hydromet/YDOC_Hydromet_test_unit_01_110052556_220825_090031.txt\")\n",
    "test\n"
   ]
  },
  {
   "cell_type": "code",
   "execution_count": null,
   "metadata": {},
   "outputs": [],
   "source": [
    "col_names = [  \"AVGVi\",\"AVGCi\",\"OCi\",\"Temp4\",\"NTU4\", \"Turb4\",\"Temp3\",\"Conductivity\", \"A_samp\", \"Samples\", \"P1\", \"RWL\", \"geolux_TIS\", \"geolux_TW\", \"geolux_x\", \"geolux_y\", \"geolux_p_7\", \"datetime\"]\n",
    "\n",
    "\n",
    "\n",
    "\n",
    "test.columns = col_names\n",
    "   \n",
    "#df = df.set_index('datetime')\n",
    "test"
   ]
  },
  {
   "cell_type": "markdown",
   "metadata": {},
   "source": [
    "## Inspect values"
   ]
  },
  {
   "cell_type": "code",
   "execution_count": null,
   "metadata": {},
   "outputs": [],
   "source": [
    "df"
   ]
  },
  {
   "cell_type": "code",
   "execution_count": null,
   "metadata": {},
   "outputs": [],
   "source": [
    "fig, axs = plt.subplots(6, 1 , figsize=(20,16))\n",
    "\n",
    "df = df[(df.index > '2022-08-22') ]\n",
    "\n",
    "\n",
    "col_name = \"geolux_TIS\"\n",
    "upper, lower = outliers(df, col_name)\n",
    "\n",
    "filtered= df.loc[(df[col_name] > lower) & (df[col_name] < upper)].sort_values('datetime')\n",
    "axs[0].plot(filtered.index, filtered[col_name])\n",
    "axs[0].set_xlabel('time')\n",
    "axs[0].set_ylabel('Temperature outside [°C]')\n",
    "\n",
    "\n",
    "col_name = \"Temp4\"\n",
    "upper, lower = outliers(df, col_name)\n",
    "\n",
    "filtered= df.loc[(df[col_name] > lower) & (df[col_name] < upper)].sort_values('datetime')\n",
    "axs[1].plot(filtered.index, filtered[col_name])\n",
    "axs[1].set_xlabel('time')\n",
    "axs[1].set_ylabel('Temperature water [°C]')\n",
    "\n",
    "\n",
    "col_name = \"Conductivity\"\n",
    "upper, lower = outliers(df, col_name)\n",
    "\n",
    "filtered= df.loc[(df[col_name] > lower) & (df[col_name] < upper)].sort_values('datetime')\n",
    "axs[2].plot(filtered.index, filtered[col_name])\n",
    "axs[2].set_xlabel('time')\n",
    "axs[2].set_ylabel('Conductivity [µs/cm]')\n",
    "\n",
    "\n",
    "col_name = \"AVGVi\"\n",
    "upper, lower = outliers(df, col_name)\n",
    "\n",
    "filtered= df.loc[(df[col_name] > lower) & (df[col_name] < upper)].sort_values('datetime')\n",
    "axs[3].plot(filtered.index, filtered[col_name])\n",
    "axs[3].set_xlabel('time')\n",
    "axs[3].set_ylabel('Voltage [V]')\n",
    "\n",
    "\n",
    "col_name = \"Turb4\"\n",
    "upper, lower = outliers(df, col_name)\n",
    "\n",
    "filtered= df.loc[(df[col_name] > lower) & (df[col_name] < upper)].sort_values('datetime')\n",
    "axs[4].plot(filtered.index, filtered[col_name])\n",
    "axs[4].set_xlabel('time')\n",
    "axs[4].set_ylabel('Turbidity [NTU]')\n",
    "\n",
    "\n",
    "col_name = \"RWL\"\n",
    "upper, lower = outliers(df, col_name)\n",
    "\n",
    "filtered= df.loc[(df[col_name] > lower) & (df[col_name] < upper)].sort_values('datetime')\n",
    "axs[5].plot(filtered.index, filtered[col_name])\n",
    "axs[5].set_xlabel('time')\n",
    "axs[5].set_ylabel('Relative Water level [mm]')\n",
    "\n",
    "\n"
   ]
  },
  {
   "cell_type": "code",
   "execution_count": null,
   "metadata": {},
   "outputs": [],
   "source": [
    "fig2, ax = plt.subplots(1, 1 , figsize=(16,12))\n",
    "\n",
    "\n",
    "\n",
    "col_name = \"Temp4\"\n",
    "upper, lower = outliers(df, col_name)\n",
    "\n",
    "filtered= df.loc[(df[col_name] > lower) & (df[col_name] < upper)].sort_values('Temp3')\n",
    "ax.plot(filtered[\"Temp3\"], filtered[\"Temp4\"])\n",
    "ax.set_xlabel('Temp3')\n",
    "ax.set_ylabel('Temp4')\n"
   ]
  }
 ],
 "metadata": {
  "kernelspec": {
   "display_name": "Python 3.9.12 ('dali-intrusion-data-analysis')",
   "language": "python",
   "name": "python3"
  },
  "language_info": {
   "codemirror_mode": {
    "name": "ipython",
    "version": 3
   },
   "file_extension": ".py",
   "mimetype": "text/x-python",
   "name": "python",
   "nbconvert_exporter": "python",
   "pygments_lexer": "ipython3",
   "version": "3.9.12"
  },
  "orig_nbformat": 4,
  "vscode": {
   "interpreter": {
    "hash": "21feddff6a81f78d3f8656c36499382f4bfc95cee52fa0825f4b8cb40c39640b"
   }
  }
 },
 "nbformat": 4,
 "nbformat_minor": 2
}
