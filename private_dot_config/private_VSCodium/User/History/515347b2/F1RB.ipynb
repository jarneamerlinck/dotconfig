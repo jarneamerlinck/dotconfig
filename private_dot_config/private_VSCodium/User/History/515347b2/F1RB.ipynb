{
 "cells": [
  {
   "cell_type": "markdown",
   "metadata": {},
   "source": [
    "# Hydromet\n"
   ]
  },
  {
   "cell_type": "markdown",
   "metadata": {},
   "source": [
    "## Import data"
   ]
  },
  {
   "cell_type": "code",
   "execution_count": 1,
   "metadata": {},
   "outputs": [],
   "source": [
    "import warnings\n",
    "warnings.simplefilter(action='ignore', category=FutureWarning)\n",
    "import numpy as np\n",
    "import pandas as pd\n",
    "import glob\n",
    "import matplotlib.pyplot as plt\n",
    "from dotenv import load_dotenv\n",
    "import ftplib\n",
    "plt.rcParams[\"figure.figsize\"] = (20,16)"
   ]
  },
  {
   "cell_type": "code",
   "execution_count": 2,
   "metadata": {},
   "outputs": [],
   "source": [
    "    \n",
    "def download_files(folder_local, folder_server):\n",
    "    load_dotenv()\n",
    "    with ftplib.FTP(os.getenv(\"FTP_SERVER\"), os.getenv(\"FTP_USERNAME\"), os.getenv(\"FTP_PASSWORD\")) as ftp:\n",
    "        ftp.cwd(folder_server)\n",
    "        filenames = ftp.nlst()\n",
    "  \n",
    "        for filename in filenames:\n",
    "\n",
    "            with open(f\"../data/\" + folder_local + \"/\" + filename, \"ab\") as file:\n",
    "                # Command for Downloading the file \"RETR filename\"\n",
    "                ftp.retrbinary('RETR ' + filename, file.write)\n",
    "\n",
    "\n",
    "    \n",
    "    \n",
    "def get_values(path:str):\n",
    "    \n",
    "    df = pd.read_csv(path, sep=\";\" )\n",
    "    df = df[df.columns[1::2]]\n",
    "    df = pd.DataFrame.transpose(df)   \n",
    "    df = df.dropna(axis=0, how='all')\n",
    "    df = pd.DataFrame.transpose(df)   \n",
    "    \n",
    "    df.columns.values[0] = 'time_temp'\n",
    "    df['time_temp'] = df['time_temp'].astype(int)\n",
    "    df['time_temp'] = df['time_temp'].astype(str)\n",
    "    \n",
    "    temp = pd.to_datetime(df['time_temp'], format='%y%m%d%H%M%S')\n",
    "    df = df.loc[ : , df.columns != 'time_temp'].apply(pd.to_numeric, errors = 'coerce')\n",
    "\n",
    "    df = df.iloc[:, :-1]\n",
    "    \n",
    "    df[\"datetime\"] = temp\n",
    "    \n",
    "    return df\n",
    "\n",
    "def outliers(df, feature):\n",
    "    Q1= df[feature].quantile(0.25)\n",
    "    Q3 = df[feature].quantile(0.75)\n",
    "    IQR = Q3 - Q1\n",
    "    upper_limit = Q3 + 1.5 * IQR\n",
    "    lower_limit = Q1 - 1.5 * IQR\n",
    "    return upper_limit, lower_limit\n",
    "\n",
    "def make_dataframe(folder_local, folder_server, start_date):\n",
    "    \n",
    "    start=True\n",
    "    df=None\n",
    "    for filename in glob.glob(folder_local +\"*.txt\"):\n",
    "        date=int(filename[filename.index(\"_\", -20, -1)+1:filename.index(\"_\", -15, -1)])\n",
    "\n",
    "        if start:\n",
    "            df = get_values(filename) \n",
    "            start =False\n",
    "        else:\n",
    "            to_append = get_values(filename) \n",
    "            df = df.append(to_append, ignore_index=True)\n",
    "    if df is  None:\n",
    "        return None\n",
    "    \n",
    "    col_names = [  \"AVGVi\",\"AVGCi\",\"OCi\",\"Temp4\",\"NTU4\", \"Turb4\",\"Temp3\",\"Conductivity\", \"A_samp\", \"Samples\", \"P1\", \"RWL\", \"geolux_TIS\", \"geolux_TW\", \"geolux_x\", \"geolux_y\", \"geolux_p_7\", \"datetime\"]\n",
    "\n",
    "    for i in range(len(col_names)):\n",
    "        df.columns.values[i] = col_names[i]\n",
    "        \n",
    "    df = df.set_index('datetime')\n",
    "    return df    \n"
   ]
  },
  {
   "cell_type": "code",
   "execution_count": 3,
   "metadata": {},
   "outputs": [
    {
     "name": "stdout",
     "output_type": "stream",
     "text": [
      "['../data/Hydromet/YDOC_Hydromet_test_unit_01_110052556_220824_060029.txt', '../data/Hydromet/YDOC_Hydromet_test_unit_01_110052556_220826_100030.txt', '../data/Hydromet/YDOC_Hydromet_test_unit_01_110052556_220823_130031.txt', '../data/Hydromet/YDOC_Hydromet_test_unit_01_110052556_220809_122318.txt', '../data/Hydromet/YDOC_Hydromet_test_unit_01_110052556_220804_105207.txt', '../data/Hydromet/YDOC_Hydromet_test_unit_01_110052556_220828_050030.txt', '../data/Hydromet/YDOC_Hydromet_test_unit_01_110052556_220829_200029.txt', '../data/Hydromet/YDOC_Hydromet_test_unit_01_110052556_220804_160548.txt', '../data/Hydromet/YDOC_Hydromet_test_unit_01_110052556_220809_133546.txt', '../data/Hydromet/YDOC_Hydromet_test_unit_01_110052556_220804_160048.txt', '../data/Hydromet/YDOC_Hydromet_test_unit_01_110052556_220823_000028.txt', '../data/Hydromet/YDOC_Hydromet_test_unit_01_110052556_220804_153548.txt', '../data/Hydromet/YDOC_Hydromet_test_unit_01_110052556_220808_161520.txt', '../data/Hydromet/YDOC_Hydromet_test_unit_01_110052556_220827_050029.txt', '../data/Hydromet/YDOC_Hydromet_test_unit_01_110052556_220824_100028.txt', '../data/Hydromet/YDOC_Hydromet_test_unit_01_110052556_220830_020028.txt', '../data/Hydromet/YDOC_Hydromet_test_unit_01_110052556_220826_090029.txt', '../data/Hydromet/YDOC_Hydromet_test_unit_01_110052556_220827_230031.txt', '../data/Hydromet/YDOC_Hydromet_test_unit_01_110052556_220824_150029.txt', '../data/Hydromet/YDOC_Hydromet_test_unit_01_110052556_220829_050029.txt', '../data/Hydromet/YDOC_Hydromet_test_unit_01_110052556_220805_104852.txt', '../data/Hydromet/YDOC_Hydromet_test_unit_01_110052556_220804_162548.txt', '../data/Hydromet/YDOC_Hydromet_test_unit_01_110052556_220826_050028.txt', '../data/Hydromet/YDOC_Hydromet_test_unit_01_110052556_220828_060029.txt', '../data/Hydromet/YDOC_Hydromet_test_unit_01_110052556_220828_170029.txt', '../data/Hydromet/YDOC_Hydromet_test_unit_01_110052556_220829_030028.txt', '../data/Hydromet/YDOC_Hydromet_test_unit_01_110052556_220822_151653.txt', '../data/Hydromet/YDOC_Hydromet_test_unit_01_110052556_220823_100028.txt', '../data/Hydromet/YDOC_Hydromet_test_unit_01_110052556_220804_152014.txt', '../data/Hydromet/YDOC_Hydromet_test_unit_01_110052556_220828_040028.txt', '../data/Hydromet/YDOC_Hydromet_test_unit_01_110052556_220824_200028.txt', '../data/Hydromet/YDOC_Hydromet_test_unit_01_110052556_220822_220028.txt', '../data/Hydromet/YDOC_Hydromet_test_unit_01_110052556_220804_101013.txt', '../data/Hydromet/YDOC_Hydromet_test_unit_01_110052556_220829_100028.txt', '../data/Hydromet/YDOC_Hydromet_test_unit_01_110052556_220827_160030.txt', '../data/Hydromet/YDOC_Hydromet_test_unit_01_110052556_220822_190031.txt', '../data/Hydromet/YDOC_Hydromet_test_unit_01_110052556_220827_010028.txt', '../data/Hydromet/YDOC_Hydromet_test_unit_01_110052556_220824_090029.txt', '../data/Hydromet/YDOC_Hydromet_test_unit_01_110052556_220829_120029.txt', '../data/Hydromet/YDOC_Hydromet_test_unit_01_110052556_220805_120819.txt', '../data/Hydromet/YDOC_Hydromet_test_unit_01_110052556_220809_121827.txt', '../data/Hydromet/YDOC_Hydromet_test_unit_01_110052556_220805_151312.txt', '../data/Hydromet/YDOC_Hydromet_test_unit_01_110052556_220829_090028.txt', '../data/Hydromet/YDOC_Hydromet_test_unit_01_110052556_220809_092719.txt', '../data/Hydromet/YDOC_Hydromet_test_unit_01_110052556_220829_010030.txt', '../data/Hydromet/YDOC_Hydromet_test_unit_01_110052556_220824_000029.txt', '../data/Hydromet/YDOC_Hydromet_test_unit_01_110052556_220828_200030.txt', '../data/Hydromet/YDOC_Hydromet_test_unit_01_110052556_220805_102253.txt', '../data/Hydromet/YDOC_Hydromet_test_unit_01_110052556_220824_210029.txt', '../data/Hydromet/YDOC_Hydromet_test_unit_01_110052556_220808_161632.txt', '../data/Hydromet/YDOC_Hydromet_test_unit_01_110052556_220824_130030.txt', '../data/Hydromet/YDOC_Hydromet_test_unit_01_110052556_220823_090029.txt', '../data/Hydromet/YDOC_Hydromet_test_unit_01_110052556_220826_060029.txt', '../data/Hydromet/YDOC_Hydromet_test_unit_01_110052556_220804_151006.txt', '../data/Hydromet/YDOC_Hydromet_test_unit_01_110052556_220826_070028.txt', '../data/Hydromet/YDOC_Hydromet_test_unit_01_110052556_220804_095015.txt', '../data/Hydromet/YDOC_Hydromet_test_unit_01_110052556_220809_121458.txt', '../data/Hydromet/YDOC_Hydromet_test_unit_01_110052556_220808_163119.txt', '../data/Hydromet/YDOC_Hydromet_test_unit_01_110052556_220828_130030.txt', '../data/Hydromet/YDOC_Hydromet_test_unit_01_110052556_220825_080028.txt', '../data/Hydromet/YDOC_Hydromet_test_unit_01_110052556_220808_154316.txt', '../data/Hydromet/YDOC_Hydromet_test_unit_01_110052556_220822_151504.txt', '../data/Hydromet/YDOC_Hydromet_test_unit_01_110052556_220830_150028.txt', '../data/Hydromet/YDOC_Hydromet_test_unit_01_110052556_220808_150221.txt', '../data/Hydromet/YDOC_Hydromet_test_unit_01_110052556_220823_190029.txt', '../data/Hydromet/YDOC_Hydromet_test_unit_01_110052556_220828_120028.txt', '../data/Hydromet/YDOC_Hydromet_test_unit_01_110052556_220808_144801.txt', '../data/Hydromet/YDOC_Hydromet_test_unit_01_110052556_220805_112018.txt', '../data/Hydromet/YDOC_Hydromet_test_unit_01_110052556_220828_090031.txt', '../data/Hydromet/YDOC_Hydromet_test_unit_01_110052556_220826_200028.txt', '../data/Hydromet/YDOC_Hydromet_test_unit_01_110052556_220804_102012.txt', '../data/Hydromet/YDOC_Hydromet_test_unit_01_110052556_220827_150029.txt', '../data/Hydromet/YDOC_Hydromet_test_unit_01_110052556_220804_100014.txt', '../data/Hydromet/YDOC_Hydromet_test_unit_01_110052556_220827_110030.txt', '../data/Hydromet/YDOC_Hydromet_test_unit_01_110052556_220823_180028.txt', '../data/Hydromet/YDOC_Hydromet_test_unit_01_110052556_220829_150028.txt', '../data/Hydromet/YDOC_Hydromet_test_unit_01_110052556_220829_110028.txt', '../data/Hydromet/YDOC_Hydromet_test_unit_01_110052556_220825_160031.txt', '../data/Hydromet/YDOC_Hydromet_test_unit_01_110052556_220823_020028.txt', '../data/Hydromet/YDOC_Hydromet_test_unit_01_110052556_220808_162457.txt', '../data/Hydromet/YDOC_Hydromet_test_unit_01_110052556_220822_150028.txt', '../data/Hydromet/YDOC_Hydromet_test_unit_01_110052556_220808_161221.txt', '../data/Hydromet/YDOC_Hydromet_test_unit_01_110052556_220830_160028.txt', '../data/Hydromet/YDOC_Hydromet_test_unit_01_110052556_220804_112012.txt', '../data/Hydromet/YDOC_Hydromet_test_unit_01_110052556_220827_200029.txt', '../data/Hydromet/YDOC_Hydromet_test_unit_01_110052556_220805_113522.txt', '../data/Hydromet/YDOC_Hydromet_test_unit_01_110052556_220804_161048.txt', '../data/Hydromet/YDOC_Hydromet_test_unit_01_110052556_220826_210028.txt', '../data/Hydromet/YDOC_Hydromet_test_unit_01_110052556_220808_113654.txt', '../data/Hydromet/YDOC_Hydromet_test_unit_01_110052556_220805_113319.txt', '../data/Hydromet/YDOC_Hydromet_test_unit_01_110052556_220809_094119.txt', '../data/Hydromet/YDOC_Hydromet_test_unit_01_110052556_220826_020029.txt', '../data/Hydromet/YDOC_Hydromet_test_unit_01_110052556_220825_040029.txt', '../data/Hydromet/YDOC_Hydromet_test_unit_01_110052556_220824_120028.txt', '../data/Hydromet/YDOC_Hydromet_test_unit_01_110052556_220809_122731.txt', '../data/Hydromet/YDOC_Hydromet_test_unit_01_110052556_220823_220028.txt', '../data/Hydromet/YDOC_Hydromet_test_unit_01_110052556_220828_070028.txt', '../data/Hydromet/YDOC_Hydromet_test_unit_01_110052556_220829_170031.txt', '../data/Hydromet/YDOC_Hydromet_test_unit_01_110052556_220825_150028.txt', '../data/Hydromet/YDOC_Hydromet_test_unit_01_110052556_220825_210028.txt', '../data/Hydromet/YDOC_Hydromet_test_unit_01_110052556_220824_050029.txt', '../data/Hydromet/YDOC_Hydromet_test_unit_01_110052556_220809_092919.txt', '../data/Hydromet/YDOC_Hydromet_test_unit_01_110052556_220827_020028.txt', '../data/Hydromet/YDOC_Hydromet_test_unit_01_110052556_220826_000028.txt', '../data/Hydromet/YDOC_Hydromet_test_unit_01_110052556_220829_070029.txt', '../data/Hydromet/YDOC_Hydromet_test_unit_01_110052556_220823_010028.txt', '../data/Hydromet/YDOC_Hydromet_test_unit_01_110052556_220829_080030.txt', '../data/Hydromet/YDOC_Hydromet_test_unit_01_110052556_220829_140029.txt', '../data/Hydromet/YDOC_Hydromet_test_unit_01_110052556_220823_120028.txt', '../data/Hydromet/YDOC_Hydromet_test_unit_01_110052556_220825_010028.txt', '../data/Hydromet/YDOC_Hydromet_test_unit_01_110052556_220804_092515.txt', '../data/Hydromet/YDOC_Hydromet_test_unit_01_110052556_220822_113118.txt', '../data/Hydromet/YDOC_Hydromet_test_unit_01_110052556_220809_090214.txt', '../data/Hydromet/YDOC_Hydromet_test_unit_01_110052556_220826_110029.txt', '../data/Hydromet/YDOC_Hydromet_test_unit_01_110052556_220827_210028.txt', '../data/Hydromet/YDOC_Hydromet_test_unit_01_110052556_220804_153048.txt', '../data/Hydromet/YDOC_Hydromet_test_unit_01_110052556_220805_122421.txt', '../data/Hydromet/YDOC_Hydromet_test_unit_01_110052556_220828_010030.txt', '../data/Hydromet/YDOC_Hydromet_test_unit_01_110052556_220808_150039.txt', '../data/Hydromet/YDOC_Hydromet_test_unit_01_110052556_220826_010028.txt', '../data/Hydromet/YDOC_Hydromet_test_unit_01_110052556_220827_130028.txt', '../data/Hydromet/YDOC_Hydromet_test_unit_01_110052556_220808_155221.txt', '../data/Hydromet/YDOC_Hydromet_test_unit_01_110052556_220826_160028.txt', '../data/Hydromet/YDOC_Hydromet_test_unit_01_110052556_220808_123425.txt', '../data/Hydromet/YDOC_Hydromet_test_unit_01_110052556_220805_115221.txt', '../data/Hydromet/YDOC_Hydromet_test_unit_01_110052556_220829_210028.txt', '../data/Hydromet/YDOC_Hydromet_test_unit_01_110052556_220804_094513.txt', '../data/Hydromet/YDOC_Hydromet_test_unit_01_110052556_220825_220029.txt', '../data/Hydromet/YDOC_Hydromet_test_unit_01_110052556_220804_113006.txt', '../data/Hydromet/YDOC_Hydromet_test_unit_01_110052556_220823_160028.txt', '../data/Hydromet/YDOC_Hydromet_test_unit_01_110052556_220828_210028.txt', '../data/Hydromet/YDOC_Hydromet_test_unit_01_110052556_220823_030028.txt', '../data/Hydromet/YDOC_Hydromet_test_unit_01_110052556_220824_030028.txt', '../data/Hydromet/YDOC_Hydromet_test_unit_01_110052556_220804_091516.txt', '../data/Hydromet/YDOC_Hydromet_test_unit_01_110052556_220826_230028.txt', '../data/Hydromet/YDOC_Hydromet_test_unit_01_110052556_220829_060028.txt', '../data/Hydromet/YDOC_Hydromet_test_unit_01_110052556_220804_144857.txt', '../data/Hydromet/YDOC_Hydromet_test_unit_01_110052556_220804_095512.txt', '../data/Hydromet/YDOC_Hydromet_test_unit_01_110052556_220804_110008.txt', '../data/Hydromet/YDOC_Hydromet_test_unit_01_110052556_220804_135512.txt', '../data/Hydromet/YDOC_Hydromet_test_unit_01_110052556_220827_090029.txt', '../data/Hydromet/YDOC_Hydromet_test_unit_01_110052556_220824_180028.txt', '../data/Hydromet/YDOC_Hydromet_test_unit_01_110052556_220826_120028.txt', '../data/Hydromet/YDOC_Hydromet_test_unit_01_110052556_220829_040028.txt', '../data/Hydromet/YDOC_Hydromet_test_unit_01_110052556_220828_140028.txt', '../data/Hydromet/YDOC_Hydromet_test_unit_01_110052556_220824_020030.txt', '../data/Hydromet/YDOC_Hydromet_test_unit_01_110052556_220822_095822.txt', '../data/Hydromet/YDOC_Hydromet_test_unit_01_110052556_220829_230029.txt', '../data/Hydromet/YDOC_Hydromet_test_unit_01_110052556_220804_162048.txt', '../data/Hydromet/YDOC_Hydromet_test_unit_01_110052556_220805_110519.txt', '../data/Hydromet/YDOC_Hydromet_test_unit_01_110052556_220830_080029.txt', '../data/Hydromet/YDOC_Hydromet_test_unit_01_110052556_220804_101515.txt', '../data/Hydromet/YDOC_Hydromet_test_unit_01_110052556_220805_102147.txt', '../data/Hydromet/YDOC_Hydromet_test_unit_01_110052556_220822_130028.txt', '../data/Hydromet/YDOC_Hydromet_test_unit_01_110052556_220825_100027.txt', '../data/Hydromet/YDOC_Hydromet_test_unit_01_110052556_220830_010028.txt', '../data/Hydromet/YDOC_Hydromet_test_unit_01_110052556_220805_112522.txt', '../data/Hydromet/YDOC_Hydromet_test_unit_01_110052556_220830_050031.txt', '../data/Hydromet/YDOC_Hydromet_test_unit_01_110052556_220826_030028.txt', '../data/Hydromet/YDOC_Hydromet_test_unit_01_110052556_220804_142014.txt', '../data/Hydromet/YDOC_Hydromet_test_unit_01_110052556_220830_090028.txt', '../data/Hydromet/YDOC_Hydromet_test_unit_01_110052556_220827_140030.txt', '../data/Hydromet/YDOC_Hydromet_test_unit_01_110052556_220827_040028.txt', '../data/Hydromet/YDOC_Hydromet_test_unit_01_110052556_220824_190028.txt', '../data/Hydromet/YDOC_Hydromet_test_unit_01_110052556_220825_090031.txt', '../data/Hydromet/YDOC_Hydromet_test_unit_01_110052556_220825_130031.txt', '../data/Hydromet/YDOC_Hydromet_test_unit_01_110052556_220804_155048.txt', '../data/Hydromet/YDOC_Hydromet_test_unit_01_110052556_220804_094016.txt', '../data/Hydromet/YDOC_Hydromet_test_unit_01_110052556_220827_000030.txt', '../data/Hydromet/YDOC_Hydromet_test_unit_01_110052556_220825_110029.txt', '../data/Hydromet/YDOC_Hydromet_test_unit_01_110052556_220809_121651.txt', '../data/Hydromet/YDOC_Hydromet_test_unit_01_110052556_220824_040028.txt', '../data/Hydromet/YDOC_Hydromet_test_unit_01_110052556_220829_180028.txt', '../data/Hydromet/YDOC_Hydromet_test_unit_01_110052556_220808_160953.txt', '../data/Hydromet/YDOC_Hydromet_test_unit_01_110052556_220804_093514.txt', '../data/Hydromet/YDOC_Hydromet_test_unit_01_110052556_220822_121056.txt', '../data/Hydromet/YDOC_Hydromet_test_unit_01_110052556_220824_140029.txt', '../data/Hydromet/YDOC_Hydromet_test_unit_01_110052556_220830_140028.txt', '../data/Hydromet/YDOC_Hydromet_test_unit_01_110052556_220822_210030.txt', '../data/Hydromet/YDOC_Hydromet_test_unit_01_110052556_220804_143516.txt', '../data/Hydromet/YDOC_Hydromet_test_unit_01_110052556_220830_030028.txt', '../data/Hydromet/YDOC_Hydromet_test_unit_01_110052556_220829_000029.txt', '../data/Hydromet/YDOC_Hydromet_test_unit_01_110052556_220825_000028.txt', '../data/Hydromet/YDOC_Hydromet_test_unit_01_110052556_220805_151719.txt', '../data/Hydromet/YDOC_Hydromet_test_unit_01_110052556_220804_142512.txt', '../data/Hydromet/YDOC_Hydromet_test_unit_01_110052556_220808_150931.txt', '../data/Hydromet/YDOC_Hydromet_test_unit_01_110052556_220808_162220.txt', '../data/Hydromet/YDOC_Hydromet_test_unit_01_110052556_220805_151922.txt', '../data/Hydromet/YDOC_Hydromet_test_unit_01_110052556_220804_152522.txt', '../data/Hydromet/YDOC_Hydromet_test_unit_01_110052556_220804_140017.txt', '../data/Hydromet/YDOC_Hydromet_test_unit_01_110052556_220830_040029.txt', '../data/Hydromet/YDOC_Hydromet_test_unit_01_110052556_220823_170028.txt', '../data/Hydromet/YDOC_Hydromet_test_unit_01_110052556_220823_230028.txt', '../data/Hydromet/YDOC_Hydromet_test_unit_01_110052556_220829_160029.txt', '../data/Hydromet/YDOC_Hydromet_test_unit_01_110052556_220828_150029.txt', '../data/Hydromet/YDOC_Hydromet_test_unit_01_110052556_220804_155548.txt', '../data/Hydromet/YDOC_Hydromet_test_unit_01_110052556_220829_190031.txt', '../data/Hydromet/YDOC_Hydromet_test_unit_01_110052556_220822_120849.txt', '../data/Hydromet/YDOC_Hydromet_test_unit_01_110052556_220804_111514.txt', '../data/Hydromet/YDOC_Hydromet_test_unit_01_110052556_220825_060029.txt', '../data/Hydromet/YDOC_Hydromet_test_unit_01_110052556_220805_104141.txt', '../data/Hydromet/YDOC_Hydromet_test_unit_01_110052556_220827_180028.txt', '../data/Hydromet/YDOC_Hydromet_test_unit_01_110052556_220826_150029.txt', '../data/Hydromet/YDOC_Hydromet_test_unit_01_110052556_220830_100028.txt', '../data/Hydromet/YDOC_Hydromet_test_unit_01_110052556_220822_145652.txt', '../data/Hydromet/YDOC_Hydromet_test_unit_01_110052556_220805_112319.txt', '../data/Hydromet/YDOC_Hydromet_test_unit_01_110052556_220805_113020.txt', '../data/Hydromet/YDOC_Hydromet_test_unit_01_110052556_220805_115500.txt', '../data/Hydromet/YDOC_Hydromet_test_unit_01_110052556_220804_092013.txt', '../data/Hydromet/YDOC_Hydromet_test_unit_01_110052556_220823_210028.txt', '../data/Hydromet/YDOC_Hydromet_test_unit_01_110052556_220804_091014.txt', '../data/Hydromet/YDOC_Hydromet_test_unit_01_110052556_220804_112653.txt', '../data/Hydromet/YDOC_Hydromet_test_unit_01_110052556_220805_120924.txt', '../data/Hydromet/YDOC_Hydromet_test_unit_01_110052556_220823_050030.txt', '../data/Hydromet/YDOC_Hydromet_test_unit_01_110052556_220826_180028.txt', '../data/Hydromet/YDOC_Hydromet_test_unit_01_110052556_220805_122219.txt', '../data/Hydromet/YDOC_Hydromet_test_unit_01_110052556_220805_115003.txt', '../data/Hydromet/YDOC_Hydromet_test_unit_01_110052556_220828_220028.txt', '../data/Hydromet/YDOC_Hydromet_test_unit_01_110052556_220822_110120.txt', '../data/Hydromet/YDOC_Hydromet_test_unit_01_110052556_220808_150339.txt', '../data/Hydromet/YDOC_Hydromet_test_unit_01_110052556_220830_170045.txt', '../data/Hydromet/YDOC_Hydromet_test_unit_01_110052556_220805_151423.txt', '../data/Hydromet/YDOC_Hydromet_test_unit_01_110052556_220808_115839.txt', '../data/Hydromet/YDOC_Hydromet_test_unit_01_110052556_220804_154048.txt', '../data/Hydromet/YDOC_Hydromet_test_unit_01_110052556_220804_140513.txt', '../data/Hydromet/YDOC_Hydromet_test_unit_01_110052556_220824_080028.txt', '../data/Hydromet/YDOC_Hydromet_test_unit_01_110052556_220804_102514.txt', '../data/Hydromet/YDOC_Hydromet_test_unit_01_110052556_220824_070028.txt', '../data/Hydromet/YDOC_Hydromet_test_unit_01_110052556_220827_060029.txt', '../data/Hydromet/YDOC_Hydromet_test_unit_01_110052556_220827_100028.txt', '../data/Hydromet/YDOC_Hydromet_test_unit_01_110052556_220825_050028.txt', '../data/Hydromet/YDOC_Hydromet_test_unit_01_110052556_220825_200030.txt', '../data/Hydromet/YDOC_Hydromet_test_unit_01_110052556_220824_220031.txt', '../data/Hydromet/YDOC_Hydromet_test_unit_01_110052556_220830_060027.txt', '../data/Hydromet/YDOC_Hydromet_test_unit_01_110052556_220825_190029.txt', '../data/Hydromet/YDOC_Hydromet_test_unit_01_110052556_220805_112721.txt', '../data/Hydromet/YDOC_Hydromet_test_unit_01_110052556_220824_110028.txt', '../data/Hydromet/YDOC_Hydromet_test_unit_01_110052556_220825_020030.txt', '../data/Hydromet/YDOC_Hydromet_test_unit_01_110052556_220809_093854.txt', '../data/Hydromet/YDOC_Hydromet_test_unit_01_110052556_220808_151401.txt', '../data/Hydromet/YDOC_Hydromet_test_unit_01_110052556_220823_060028.txt', '../data/Hydromet/YDOC_Hydromet_test_unit_01_110052556_220828_030029.txt', '../data/Hydromet/YDOC_Hydromet_test_unit_01_110052556_220822_170029.txt', '../data/Hydromet/YDOC_Hydromet_test_unit_01_110052556_220827_220028.txt', '../data/Hydromet/YDOC_Hydromet_test_unit_01_110052556_220804_161548.txt', '../data/Hydromet/YDOC_Hydromet_test_unit_01_110052556_220804_112851.txt', '../data/Hydromet/YDOC_Hydromet_test_unit_01_110052556_220805_120010.txt', '../data/Hydromet/YDOC_Hydromet_test_unit_01_110052556_220826_130028.txt', '../data/Hydromet/YDOC_Hydromet_test_unit_01_110052556_220809_133858.txt', '../data/Hydromet/YDOC_Hydromet_test_unit_01_110052556_220823_040030.txt', '../data/Hydromet/YDOC_Hydromet_test_unit_01_110052556_220826_220031.txt', '../data/Hydromet/YDOC_Hydromet_test_unit_01_110052556_220808_114019.txt', '../data/Hydromet/YDOC_Hydromet_test_unit_01_110052556_220808_122654.txt', '../data/Hydromet/YDOC_Hydromet_test_unit_01_110052556_220829_220030.txt', '../data/Hydromet/YDOC_Hydromet_test_unit_01_110052556_220828_000028.txt', '../data/Hydromet/YDOC_Hydromet_test_unit_01_110052556_220827_070028.txt', '../data/Hydromet/YDOC_Hydromet_test_unit_01_110052556_220824_230028.txt', '../data/Hydromet/YDOC_Hydromet_test_unit_01_110052556_220828_110028.txt', '../data/Hydromet/YDOC_Hydromet_test_unit_01_110052556_220804_154548.txt', '../data/Hydromet/YDOC_Hydromet_test_unit_01_110052556_220830_070028.txt', '../data/Hydromet/YDOC_Hydromet_test_unit_01_110052556_220825_180028.txt', '../data/Hydromet/YDOC_Hydromet_test_unit_01_110052556_220827_080032.txt', '../data/Hydromet/YDOC_Hydromet_test_unit_01_110052556_220808_163219.txt', '../data/Hydromet/YDOC_Hydromet_test_unit_01_110052556_220826_140030.txt', '../data/Hydromet/YDOC_Hydromet_test_unit_01_110052556_220825_170028.txt', '../data/Hydromet/YDOC_Hydromet_test_unit_01_110052556_220830_130028.txt', '../data/Hydromet/YDOC_Hydromet_test_unit_01_110052556_220824_170028.txt', '../data/Hydromet/YDOC_Hydromet_test_unit_01_110052556_220822_230028.txt', '../data/Hydromet/YDOC_Hydromet_test_unit_01_110052556_220804_141015.txt', '../data/Hydromet/YDOC_Hydromet_test_unit_01_110052556_220828_160031.txt', '../data/Hydromet/YDOC_Hydromet_test_unit_01_110052556_220809_134933.txt', '../data/Hydromet/YDOC_Hydromet_test_unit_01_110052556_220804_141512.txt', '../data/Hydromet/YDOC_Hydromet_test_unit_01_110052556_220823_140029.txt', '../data/Hydromet/YDOC_Hydromet_test_unit_01_110052556_220805_111802.txt', '../data/Hydromet/YDOC_Hydromet_test_unit_01_110052556_220805_102501.txt', '../data/Hydromet/YDOC_Hydromet_test_unit_01_110052556_220804_135056.txt', '../data/Hydromet/YDOC_Hydromet_test_unit_01_110052556_220828_190028.txt', '../data/Hydromet/YDOC_Hydromet_test_unit_01_110052556_220822_180030.txt', '../data/Hydromet/YDOC_Hydromet_test_unit_01_110052556_220804_150637.txt', '../data/Hydromet/YDOC_Hydromet_test_unit_01_110052556_220826_170030.txt', '../data/Hydromet/YDOC_Hydromet_test_unit_01_110052556_220804_105521.txt', '../data/Hydromet/YDOC_Hydromet_test_unit_01_110052556_220805_120620.txt', '../data/Hydromet/YDOC_Hydromet_test_unit_01_110052556_220827_170028.txt', '../data/Hydromet/YDOC_Hydromet_test_unit_01_110052556_220825_140030.txt', '../data/Hydromet/YDOC_Hydromet_test_unit_01_110052556_220823_110028.txt', '../data/Hydromet/YDOC_Hydromet_test_unit_01_110052556_220824_010028.txt', '../data/Hydromet/YDOC_Hydromet_test_unit_01_110052556_220805_151129.txt', '../data/Hydromet/YDOC_Hydromet_test_unit_01_110052556_220808_165237.txt', '../data/Hydromet/YDOC_Hydromet_test_unit_01_110052556_220829_130029.txt', '../data/Hydromet/YDOC_Hydromet_test_unit_01_110052556_220825_230028.txt', '../data/Hydromet/YDOC_Hydromet_test_unit_01_110052556_220822_151425.txt', '../data/Hydromet/YDOC_Hydromet_test_unit_01_110052556_220823_200028.txt', '../data/Hydromet/YDOC_Hydromet_test_unit_01_110052556_220808_151018.txt', '../data/Hydromet/YDOC_Hydromet_test_unit_01_110052556_220822_200028.txt', '../data/Hydromet/YDOC_Hydromet_test_unit_01_110052556_220826_190028.txt', '../data/Hydromet/YDOC_Hydromet_test_unit_01_110052556_220823_150028.txt', '../data/Hydromet/YDOC_Hydromet_test_unit_01_110052556_220825_120046.txt', '../data/Hydromet/YDOC_Hydromet_test_unit_01_110052556_220805_121122.txt', '../data/Hydromet/YDOC_Hydromet_test_unit_01_110052556_220828_080031.txt', '../data/Hydromet/YDOC_Hydromet_test_unit_01_110052556_220805_115119.txt', '../data/Hydromet/YDOC_Hydromet_test_unit_01_110052556_220804_090014.txt', '../data/Hydromet/YDOC_Hydromet_test_unit_01_110052556_220804_145004.txt', '../data/Hydromet/YDOC_Hydromet_test_unit_01_110052556_220804_134511.txt', '../data/Hydromet/YDOC_Hydromet_test_unit_01_110052556_220830_120029.txt', '../data/Hydromet/YDOC_Hydromet_test_unit_01_110052556_220827_120028.txt', '../data/Hydromet/YDOC_Hydromet_test_unit_01_110052556_220808_165522.txt', '../data/Hydromet/YDOC_Hydromet_test_unit_01_110052556_220808_113836.txt', '../data/Hydromet/YDOC_Hydromet_test_unit_01_110052556_220822_095654.txt', '../data/Hydromet/YDOC_Hydromet_test_unit_01_110052556_220829_020028.txt', '../data/Hydromet/YDOC_Hydromet_test_unit_01_110052556_220828_180028.txt', '../data/Hydromet/YDOC_Hydromet_test_unit_01_110052556_220804_100516.txt', '../data/Hydromet/YDOC_Hydromet_test_unit_01_110052556_220826_040028.txt', '../data/Hydromet/YDOC_Hydromet_test_unit_01_110052556_220823_080030.txt', '../data/Hydromet/YDOC_Hydromet_test_unit_01_110052556_220808_162031.txt', '../data/Hydromet/YDOC_Hydromet_test_unit_01_110052556_220823_070028.txt', '../data/Hydromet/YDOC_Hydromet_test_unit_01_110052556_220804_093012.txt', '../data/Hydromet/YDOC_Hydromet_test_unit_01_110052556_220809_134358.txt', '../data/Hydromet/YDOC_Hydromet_test_unit_01_110052556_220808_163022.txt', '../data/Hydromet/YDOC_Hydromet_test_unit_01_110052556_220827_190028.txt', '../data/Hydromet/YDOC_Hydromet_test_unit_01_110052556_220804_143014.txt', '../data/Hydromet/YDOC_Hydromet_test_unit_01_110052556_220825_070030.txt', '../data/Hydromet/YDOC_Hydromet_test_unit_01_110052556_220830_000029.txt', '../data/Hydromet/YDOC_Hydromet_test_unit_01_110052556_220826_080028.txt', '../data/Hydromet/YDOC_Hydromet_test_unit_01_110052556_220827_030030.txt', '../data/Hydromet/YDOC_Hydromet_test_unit_01_110052556_220804_111144.txt', '../data/Hydromet/YDOC_Hydromet_test_unit_01_110052556_220828_230028.txt', '../data/Hydromet/YDOC_Hydromet_test_unit_01_110052556_220825_030028.txt', '../data/Hydromet/YDOC_Hydromet_test_unit_01_110052556_220824_160107.txt', '../data/Hydromet/YDOC_Hydromet_test_unit_01_110052556_220828_100030.txt', '../data/Hydromet/YDOC_Hydromet_test_unit_01_110052556_220822_160028.txt', '../data/Hydromet/YDOC_Hydromet_test_unit_01_110052556_220809_122018.txt', '../data/Hydromet/YDOC_Hydromet_test_unit_01_110052556_220828_020028.txt', '../data/Hydromet/YDOC_Hydromet_test_unit_01_110052556_220830_110028.txt']\n",
      "      V  Average current    OCi     sec  Temperature    NTU4     NTU  \\\n",
      "0  3.12              134  47.70  19.434       16.923  16.923  19.250   \n",
      "1  3.14               75  25.60  19.434       16.833  16.833  19.270   \n",
      "2  3.14               75  25.55  19.441       16.723  16.723  19.289   \n",
      "3  3.11              132  23.20  19.457       16.645  16.645  19.299   \n",
      "\n",
      "   Turbidity2  Temp3  Unnamed: 21  Conductivity  A_samp  Unnamed: 27  \\\n",
      "0      171.13  0.184            1           NaN     NaN          NaN   \n",
      "1      170.94  0.164            1       -2216.2  2216.2         21.0   \n",
      "2      170.21  0.152            1       -2218.5  2218.5         21.0   \n",
      "3      170.27  0.158            1       -2217.9  2217.9         22.0   \n",
      "\n",
      "   Satellites  LAT  deg  Longitude            datetime  \n",
      "0         NaN  NaN  NaN        NaN 2022-08-26 09:15:22  \n",
      "1         0.0 -3.0  1.0       45.0 2022-08-26 09:30:23  \n",
      "2         0.0 -3.0  1.0       47.0 2022-08-26 09:45:23  \n",
      "3         0.0 -3.0  1.0       47.0 2022-08-26 10:00:21  \n",
      "      V  Average current    OCi     sec  Temperature    NTU4     NTU  \\\n",
      "0   NaN              NaN    NaN     NaN          NaN     NaN     NaN   \n",
      "1  3.13            139.0  62.75  17.842       80.828  80.828  17.666   \n",
      "2  3.13             84.0  23.20  17.882       80.629  80.629  17.720   \n",
      "3  3.13             84.0  23.15  17.947       80.473  80.473  17.782   \n",
      "4  3.13             85.0  25.60  18.008       80.148  80.148  17.854   \n",
      "5  3.13             85.0  23.15  18.049       79.804  79.804  17.885   \n",
      "6  3.11            141.0  25.60  18.106       79.523  79.523  17.959   \n",
      "\n",
      "   Turbidity2  Temp3  Unnamed: 21  Conductivity  A_samp  Unnamed: 27  \\\n",
      "0         NaN    NaN          NaN           NaN     NaN          NaN   \n",
      "1      357.13  0.176          1.0       -2211.9  2211.9         26.0   \n",
      "2      369.17  0.162          1.0       -2211.1  2211.1         26.0   \n",
      "3      388.26  0.165          1.0       -2212.4  2212.4         27.0   \n",
      "4      390.12  0.154          1.0       -2212.0  2212.0         26.0   \n",
      "5      389.84  0.164          1.0       -2213.2  2213.2         26.0   \n",
      "6      377.27  0.147          1.0       -2213.8  2213.8         27.0   \n",
      "\n",
      "   Satellites  LAT  deg  Longitude            datetime  \n",
      "0         NaN  NaN  NaN        NaN 2022-08-23 12:01:00  \n",
      "1         0.0 -3.0  1.0       45.0 2022-08-23 12:10:21  \n",
      "2         0.0 -3.0  1.0       50.0 2022-08-23 12:20:21  \n",
      "3         0.0 -3.0  1.0       47.0 2022-08-23 12:30:21  \n",
      "4         0.0 -3.0  1.0       43.0 2022-08-23 12:40:23  \n",
      "5         0.0 -3.0  1.0       45.0 2022-08-23 12:50:21  \n",
      "6         0.0 -3.0  1.0       45.0 2022-08-23 13:00:23  \n",
      "      V  Average current    OCi     sec  Temperature      NTU4     NTU  \\\n",
      "0  3.08            171.0  58.55  26.893     1580.200  1580.200  22.849   \n",
      "1   NaN              NaN    NaN     NaN          NaN       NaN     NaN   \n",
      "2  3.15             78.0  60.00  24.533        4.822     4.822  22.838   \n",
      "3  3.15             77.0  60.00  23.954        4.414     4.414  22.926   \n",
      "4  3.10             93.0   1.40  23.705        4.282     4.282  22.937   \n",
      "\n",
      "   Turbidity2  Temp3            datetime  \n",
      "0      721.72    NaN 2022-08-09 12:21:00  \n",
      "1         NaN    NaN 2022-08-09 12:21:12  \n",
      "2      721.92    NaN 2022-08-09 12:22:00  \n",
      "3      720.56    NaN 2022-08-09 12:23:00  \n",
      "4      720.22  0.768 2022-08-09 12:23:01  \n"
     ]
    },
    {
     "ename": "ValueError",
     "evalue": "invalid literal for int() with base 10: 'AVGVi'",
     "output_type": "error",
     "traceback": [
      "\u001b[0;31m---------------------------------------------------------------------------\u001b[0m",
      "\u001b[0;31mValueError\u001b[0m                                Traceback (most recent call last)",
      "\u001b[1;32m/home/eragon/repos/fluves/pyiotdataflow/notebooks/hydromet.ipynb Cell 5\u001b[0m in \u001b[0;36m<cell line: 7>\u001b[0;34m()\u001b[0m\n\u001b[1;32m      <a href='vscode-notebook-cell:/home/eragon/repos/fluves/pyiotdataflow/notebooks/hydromet.ipynb#W4sZmlsZQ%3D%3D?line=3'>4</a>\u001b[0m start_date\u001b[39m=\u001b[39m\u001b[39m220822\u001b[39m\n\u001b[1;32m      <a href='vscode-notebook-cell:/home/eragon/repos/fluves/pyiotdataflow/notebooks/hydromet.ipynb#W4sZmlsZQ%3D%3D?line=4'>5</a>\u001b[0m \u001b[39m# Read all files\u001b[39;00m\n\u001b[1;32m      <a href='vscode-notebook-cell:/home/eragon/repos/fluves/pyiotdataflow/notebooks/hydromet.ipynb#W4sZmlsZQ%3D%3D?line=5'>6</a>\u001b[0m \u001b[39m#download_files(folder_local, folder_server)\u001b[39;00m\n\u001b[0;32m----> <a href='vscode-notebook-cell:/home/eragon/repos/fluves/pyiotdataflow/notebooks/hydromet.ipynb#W4sZmlsZQ%3D%3D?line=6'>7</a>\u001b[0m df \u001b[39m=\u001b[39m make_dataframe(folder_local, folder_server, start_date)\n\u001b[1;32m      <a href='vscode-notebook-cell:/home/eragon/repos/fluves/pyiotdataflow/notebooks/hydromet.ipynb#W4sZmlsZQ%3D%3D?line=7'>8</a>\u001b[0m df\n",
      "\u001b[1;32m/home/eragon/repos/fluves/pyiotdataflow/notebooks/hydromet.ipynb Cell 5\u001b[0m in \u001b[0;36mmake_dataframe\u001b[0;34m(folder_local, folder_server, start_date)\u001b[0m\n\u001b[1;32m     <a href='vscode-notebook-cell:/home/eragon/repos/fluves/pyiotdataflow/notebooks/hydromet.ipynb#W4sZmlsZQ%3D%3D?line=54'>55</a>\u001b[0m     start \u001b[39m=\u001b[39m\u001b[39mFalse\u001b[39;00m\n\u001b[1;32m     <a href='vscode-notebook-cell:/home/eragon/repos/fluves/pyiotdataflow/notebooks/hydromet.ipynb#W4sZmlsZQ%3D%3D?line=55'>56</a>\u001b[0m \u001b[39melse\u001b[39;00m:\n\u001b[0;32m---> <a href='vscode-notebook-cell:/home/eragon/repos/fluves/pyiotdataflow/notebooks/hydromet.ipynb#W4sZmlsZQ%3D%3D?line=56'>57</a>\u001b[0m     to_append \u001b[39m=\u001b[39m get_values(filename) \n\u001b[1;32m     <a href='vscode-notebook-cell:/home/eragon/repos/fluves/pyiotdataflow/notebooks/hydromet.ipynb#W4sZmlsZQ%3D%3D?line=57'>58</a>\u001b[0m     \u001b[39mprint\u001b[39m(to_append)\n\u001b[1;32m     <a href='vscode-notebook-cell:/home/eragon/repos/fluves/pyiotdataflow/notebooks/hydromet.ipynb#W4sZmlsZQ%3D%3D?line=58'>59</a>\u001b[0m     df \u001b[39m=\u001b[39m df\u001b[39m.\u001b[39mappend(to_append, ignore_index\u001b[39m=\u001b[39m\u001b[39mTrue\u001b[39;00m)\n",
      "\u001b[1;32m/home/eragon/repos/fluves/pyiotdataflow/notebooks/hydromet.ipynb Cell 5\u001b[0m in \u001b[0;36mget_values\u001b[0;34m(path)\u001b[0m\n\u001b[1;32m     <a href='vscode-notebook-cell:/home/eragon/repos/fluves/pyiotdataflow/notebooks/hydromet.ipynb#W4sZmlsZQ%3D%3D?line=21'>22</a>\u001b[0m df \u001b[39m=\u001b[39m pd\u001b[39m.\u001b[39mDataFrame\u001b[39m.\u001b[39mtranspose(df)   \n\u001b[1;32m     <a href='vscode-notebook-cell:/home/eragon/repos/fluves/pyiotdataflow/notebooks/hydromet.ipynb#W4sZmlsZQ%3D%3D?line=23'>24</a>\u001b[0m df\u001b[39m.\u001b[39mcolumns\u001b[39m.\u001b[39mvalues[\u001b[39m0\u001b[39m] \u001b[39m=\u001b[39m \u001b[39m'\u001b[39m\u001b[39mtime_temp\u001b[39m\u001b[39m'\u001b[39m\n\u001b[0;32m---> <a href='vscode-notebook-cell:/home/eragon/repos/fluves/pyiotdataflow/notebooks/hydromet.ipynb#W4sZmlsZQ%3D%3D?line=24'>25</a>\u001b[0m df[\u001b[39m'\u001b[39m\u001b[39mtime_temp\u001b[39m\u001b[39m'\u001b[39m] \u001b[39m=\u001b[39m df[\u001b[39m'\u001b[39;49m\u001b[39mtime_temp\u001b[39;49m\u001b[39m'\u001b[39;49m]\u001b[39m.\u001b[39;49mastype(\u001b[39mint\u001b[39;49m)\n\u001b[1;32m     <a href='vscode-notebook-cell:/home/eragon/repos/fluves/pyiotdataflow/notebooks/hydromet.ipynb#W4sZmlsZQ%3D%3D?line=25'>26</a>\u001b[0m df[\u001b[39m'\u001b[39m\u001b[39mtime_temp\u001b[39m\u001b[39m'\u001b[39m] \u001b[39m=\u001b[39m df[\u001b[39m'\u001b[39m\u001b[39mtime_temp\u001b[39m\u001b[39m'\u001b[39m]\u001b[39m.\u001b[39mastype(\u001b[39mstr\u001b[39m)\n\u001b[1;32m     <a href='vscode-notebook-cell:/home/eragon/repos/fluves/pyiotdataflow/notebooks/hydromet.ipynb#W4sZmlsZQ%3D%3D?line=27'>28</a>\u001b[0m temp \u001b[39m=\u001b[39m pd\u001b[39m.\u001b[39mto_datetime(df[\u001b[39m'\u001b[39m\u001b[39mtime_temp\u001b[39m\u001b[39m'\u001b[39m], \u001b[39mformat\u001b[39m\u001b[39m=\u001b[39m\u001b[39m'\u001b[39m\u001b[39m%\u001b[39m\u001b[39my\u001b[39m\u001b[39m%\u001b[39m\u001b[39mm\u001b[39m\u001b[39m%d\u001b[39;00m\u001b[39m%\u001b[39m\u001b[39mH\u001b[39m\u001b[39m%\u001b[39m\u001b[39mM\u001b[39m\u001b[39m%\u001b[39m\u001b[39mS\u001b[39m\u001b[39m'\u001b[39m)\n",
      "File \u001b[0;32m/opt/conda/envs/dali-intrusion-data-analysis/lib/python3.9/site-packages/pandas/core/generic.py:5912\u001b[0m, in \u001b[0;36mNDFrame.astype\u001b[0;34m(self, dtype, copy, errors)\u001b[0m\n\u001b[1;32m   5905\u001b[0m     results \u001b[39m=\u001b[39m [\n\u001b[1;32m   5906\u001b[0m         \u001b[39mself\u001b[39m\u001b[39m.\u001b[39miloc[:, i]\u001b[39m.\u001b[39mastype(dtype, copy\u001b[39m=\u001b[39mcopy)\n\u001b[1;32m   5907\u001b[0m         \u001b[39mfor\u001b[39;00m i \u001b[39min\u001b[39;00m \u001b[39mrange\u001b[39m(\u001b[39mlen\u001b[39m(\u001b[39mself\u001b[39m\u001b[39m.\u001b[39mcolumns))\n\u001b[1;32m   5908\u001b[0m     ]\n\u001b[1;32m   5910\u001b[0m \u001b[39melse\u001b[39;00m:\n\u001b[1;32m   5911\u001b[0m     \u001b[39m# else, only a single dtype is given\u001b[39;00m\n\u001b[0;32m-> 5912\u001b[0m     new_data \u001b[39m=\u001b[39m \u001b[39mself\u001b[39;49m\u001b[39m.\u001b[39;49m_mgr\u001b[39m.\u001b[39;49mastype(dtype\u001b[39m=\u001b[39;49mdtype, copy\u001b[39m=\u001b[39;49mcopy, errors\u001b[39m=\u001b[39;49merrors)\n\u001b[1;32m   5913\u001b[0m     \u001b[39mreturn\u001b[39;00m \u001b[39mself\u001b[39m\u001b[39m.\u001b[39m_constructor(new_data)\u001b[39m.\u001b[39m__finalize__(\u001b[39mself\u001b[39m, method\u001b[39m=\u001b[39m\u001b[39m\"\u001b[39m\u001b[39mastype\u001b[39m\u001b[39m\"\u001b[39m)\n\u001b[1;32m   5915\u001b[0m \u001b[39m# GH 33113: handle empty frame or series\u001b[39;00m\n",
      "File \u001b[0;32m/opt/conda/envs/dali-intrusion-data-analysis/lib/python3.9/site-packages/pandas/core/internals/managers.py:419\u001b[0m, in \u001b[0;36mBaseBlockManager.astype\u001b[0;34m(self, dtype, copy, errors)\u001b[0m\n\u001b[1;32m    418\u001b[0m \u001b[39mdef\u001b[39;00m \u001b[39mastype\u001b[39m(\u001b[39mself\u001b[39m: T, dtype, copy: \u001b[39mbool\u001b[39m \u001b[39m=\u001b[39m \u001b[39mFalse\u001b[39;00m, errors: \u001b[39mstr\u001b[39m \u001b[39m=\u001b[39m \u001b[39m\"\u001b[39m\u001b[39mraise\u001b[39m\u001b[39m\"\u001b[39m) \u001b[39m-\u001b[39m\u001b[39m>\u001b[39m T:\n\u001b[0;32m--> 419\u001b[0m     \u001b[39mreturn\u001b[39;00m \u001b[39mself\u001b[39;49m\u001b[39m.\u001b[39;49mapply(\u001b[39m\"\u001b[39;49m\u001b[39mastype\u001b[39;49m\u001b[39m\"\u001b[39;49m, dtype\u001b[39m=\u001b[39;49mdtype, copy\u001b[39m=\u001b[39;49mcopy, errors\u001b[39m=\u001b[39;49merrors)\n",
      "File \u001b[0;32m/opt/conda/envs/dali-intrusion-data-analysis/lib/python3.9/site-packages/pandas/core/internals/managers.py:304\u001b[0m, in \u001b[0;36mBaseBlockManager.apply\u001b[0;34m(self, f, align_keys, ignore_failures, **kwargs)\u001b[0m\n\u001b[1;32m    302\u001b[0m         applied \u001b[39m=\u001b[39m b\u001b[39m.\u001b[39mapply(f, \u001b[39m*\u001b[39m\u001b[39m*\u001b[39mkwargs)\n\u001b[1;32m    303\u001b[0m     \u001b[39melse\u001b[39;00m:\n\u001b[0;32m--> 304\u001b[0m         applied \u001b[39m=\u001b[39m \u001b[39mgetattr\u001b[39;49m(b, f)(\u001b[39m*\u001b[39;49m\u001b[39m*\u001b[39;49mkwargs)\n\u001b[1;32m    305\u001b[0m \u001b[39mexcept\u001b[39;00m (\u001b[39mTypeError\u001b[39;00m, \u001b[39mNotImplementedError\u001b[39;00m):\n\u001b[1;32m    306\u001b[0m     \u001b[39mif\u001b[39;00m \u001b[39mnot\u001b[39;00m ignore_failures:\n",
      "File \u001b[0;32m/opt/conda/envs/dali-intrusion-data-analysis/lib/python3.9/site-packages/pandas/core/internals/blocks.py:580\u001b[0m, in \u001b[0;36mBlock.astype\u001b[0;34m(self, dtype, copy, errors)\u001b[0m\n\u001b[1;32m    562\u001b[0m \u001b[39m\"\"\"\u001b[39;00m\n\u001b[1;32m    563\u001b[0m \u001b[39mCoerce to the new dtype.\u001b[39;00m\n\u001b[1;32m    564\u001b[0m \n\u001b[0;32m   (...)\u001b[0m\n\u001b[1;32m    576\u001b[0m \u001b[39mBlock\u001b[39;00m\n\u001b[1;32m    577\u001b[0m \u001b[39m\"\"\"\u001b[39;00m\n\u001b[1;32m    578\u001b[0m values \u001b[39m=\u001b[39m \u001b[39mself\u001b[39m\u001b[39m.\u001b[39mvalues\n\u001b[0;32m--> 580\u001b[0m new_values \u001b[39m=\u001b[39m astype_array_safe(values, dtype, copy\u001b[39m=\u001b[39;49mcopy, errors\u001b[39m=\u001b[39;49merrors)\n\u001b[1;32m    582\u001b[0m new_values \u001b[39m=\u001b[39m maybe_coerce_values(new_values)\n\u001b[1;32m    583\u001b[0m newb \u001b[39m=\u001b[39m \u001b[39mself\u001b[39m\u001b[39m.\u001b[39mmake_block(new_values)\n",
      "File \u001b[0;32m/opt/conda/envs/dali-intrusion-data-analysis/lib/python3.9/site-packages/pandas/core/dtypes/cast.py:1292\u001b[0m, in \u001b[0;36mastype_array_safe\u001b[0;34m(values, dtype, copy, errors)\u001b[0m\n\u001b[1;32m   1289\u001b[0m     dtype \u001b[39m=\u001b[39m dtype\u001b[39m.\u001b[39mnumpy_dtype\n\u001b[1;32m   1291\u001b[0m \u001b[39mtry\u001b[39;00m:\n\u001b[0;32m-> 1292\u001b[0m     new_values \u001b[39m=\u001b[39m astype_array(values, dtype, copy\u001b[39m=\u001b[39;49mcopy)\n\u001b[1;32m   1293\u001b[0m \u001b[39mexcept\u001b[39;00m (\u001b[39mValueError\u001b[39;00m, \u001b[39mTypeError\u001b[39;00m):\n\u001b[1;32m   1294\u001b[0m     \u001b[39m# e.g. astype_nansafe can fail on object-dtype of strings\u001b[39;00m\n\u001b[1;32m   1295\u001b[0m     \u001b[39m#  trying to convert to float\u001b[39;00m\n\u001b[1;32m   1296\u001b[0m     \u001b[39mif\u001b[39;00m errors \u001b[39m==\u001b[39m \u001b[39m\"\u001b[39m\u001b[39mignore\u001b[39m\u001b[39m\"\u001b[39m:\n",
      "File \u001b[0;32m/opt/conda/envs/dali-intrusion-data-analysis/lib/python3.9/site-packages/pandas/core/dtypes/cast.py:1237\u001b[0m, in \u001b[0;36mastype_array\u001b[0;34m(values, dtype, copy)\u001b[0m\n\u001b[1;32m   1234\u001b[0m     values \u001b[39m=\u001b[39m values\u001b[39m.\u001b[39mastype(dtype, copy\u001b[39m=\u001b[39mcopy)\n\u001b[1;32m   1236\u001b[0m \u001b[39melse\u001b[39;00m:\n\u001b[0;32m-> 1237\u001b[0m     values \u001b[39m=\u001b[39m astype_nansafe(values, dtype, copy\u001b[39m=\u001b[39;49mcopy)\n\u001b[1;32m   1239\u001b[0m \u001b[39m# in pandas we don't store numpy str dtypes, so convert to object\u001b[39;00m\n\u001b[1;32m   1240\u001b[0m \u001b[39mif\u001b[39;00m \u001b[39misinstance\u001b[39m(dtype, np\u001b[39m.\u001b[39mdtype) \u001b[39mand\u001b[39;00m \u001b[39missubclass\u001b[39m(values\u001b[39m.\u001b[39mdtype\u001b[39m.\u001b[39mtype, \u001b[39mstr\u001b[39m):\n",
      "File \u001b[0;32m/opt/conda/envs/dali-intrusion-data-analysis/lib/python3.9/site-packages/pandas/core/dtypes/cast.py:1154\u001b[0m, in \u001b[0;36mastype_nansafe\u001b[0;34m(arr, dtype, copy, skipna)\u001b[0m\n\u001b[1;32m   1150\u001b[0m \u001b[39melif\u001b[39;00m is_object_dtype(arr\u001b[39m.\u001b[39mdtype):\n\u001b[1;32m   1151\u001b[0m \n\u001b[1;32m   1152\u001b[0m     \u001b[39m# work around NumPy brokenness, #1987\u001b[39;00m\n\u001b[1;32m   1153\u001b[0m     \u001b[39mif\u001b[39;00m np\u001b[39m.\u001b[39missubdtype(dtype\u001b[39m.\u001b[39mtype, np\u001b[39m.\u001b[39minteger):\n\u001b[0;32m-> 1154\u001b[0m         \u001b[39mreturn\u001b[39;00m lib\u001b[39m.\u001b[39;49mastype_intsafe(arr, dtype)\n\u001b[1;32m   1156\u001b[0m     \u001b[39m# if we have a datetime/timedelta array of objects\u001b[39;00m\n\u001b[1;32m   1157\u001b[0m     \u001b[39m# then coerce to a proper dtype and recall astype_nansafe\u001b[39;00m\n\u001b[1;32m   1159\u001b[0m     \u001b[39melif\u001b[39;00m is_datetime64_dtype(dtype):\n",
      "File \u001b[0;32m/opt/conda/envs/dali-intrusion-data-analysis/lib/python3.9/site-packages/pandas/_libs/lib.pyx:668\u001b[0m, in \u001b[0;36mpandas._libs.lib.astype_intsafe\u001b[0;34m()\u001b[0m\n",
      "\u001b[0;31mValueError\u001b[0m: invalid literal for int() with base 10: 'AVGVi'"
     ]
    }
   ],
   "source": [
    "# Download files\n",
    "folder_local = \"../data/Hydromet/\"\n",
    "folder_server = \"Hydromet\"\n",
    "start_date=220822\n",
    "# Read all files\n",
    "#download_files(folder_local, folder_server)\n",
    "df = make_dataframe(folder_local, folder_server, start_date)\n",
    "df\n",
    "\n"
   ]
  },
  {
   "cell_type": "code",
   "execution_count": null,
   "metadata": {},
   "outputs": [],
   "source": [
    "df\n",
    "#df"
   ]
  },
  {
   "cell_type": "markdown",
   "metadata": {},
   "source": [
    "## Tests"
   ]
  },
  {
   "cell_type": "code",
   "execution_count": null,
   "metadata": {},
   "outputs": [],
   "source": [
    "test = get_values( \"../data/Hydromet/YDOC_Hydromet_test_unit_01_110052556_220825_090031.txt\")\n",
    "test\n"
   ]
  },
  {
   "cell_type": "code",
   "execution_count": null,
   "metadata": {},
   "outputs": [],
   "source": [
    "col_names = [  \"AVGVi\",\"AVGCi\",\"OCi\",\"Temp4\",\"NTU4\", \"Turb4\",\"Temp3\",\"Conductivity\", \"A_samp\", \"Samples\", \"P1\", \"RWL\", \"geolux_TIS\", \"geolux_TW\", \"geolux_x\", \"geolux_y\", \"geolux_p_7\", \"datetime\"]\n",
    "\n",
    "\n",
    "\n",
    "\n",
    "test.columns = col_names\n",
    "   \n",
    "#df = df.set_index('datetime')\n",
    "test"
   ]
  },
  {
   "cell_type": "markdown",
   "metadata": {},
   "source": [
    "## Inspect values"
   ]
  },
  {
   "cell_type": "code",
   "execution_count": null,
   "metadata": {},
   "outputs": [],
   "source": [
    "df"
   ]
  },
  {
   "cell_type": "code",
   "execution_count": null,
   "metadata": {},
   "outputs": [],
   "source": [
    "fig, axs = plt.subplots(6, 1 , figsize=(20,16))\n",
    "\n",
    "df = df[(df.index > '2022-08-22') ]\n",
    "\n",
    "\n",
    "col_name = \"geolux_TIS\"\n",
    "upper, lower = outliers(df, col_name)\n",
    "\n",
    "filtered= df.loc[(df[col_name] > lower) & (df[col_name] < upper)].sort_values('datetime')\n",
    "axs[0].plot(filtered.index, filtered[col_name])\n",
    "axs[0].set_xlabel('time')\n",
    "axs[0].set_ylabel('Temperature outside [°C]')\n",
    "\n",
    "\n",
    "col_name = \"Temp4\"\n",
    "upper, lower = outliers(df, col_name)\n",
    "\n",
    "filtered= df.loc[(df[col_name] > lower) & (df[col_name] < upper)].sort_values('datetime')\n",
    "axs[1].plot(filtered.index, filtered[col_name])\n",
    "axs[1].set_xlabel('time')\n",
    "axs[1].set_ylabel('Temperature water [°C]')\n",
    "\n",
    "\n",
    "col_name = \"Conductivity\"\n",
    "upper, lower = outliers(df, col_name)\n",
    "\n",
    "filtered= df.loc[(df[col_name] > lower) & (df[col_name] < upper)].sort_values('datetime')\n",
    "axs[2].plot(filtered.index, filtered[col_name])\n",
    "axs[2].set_xlabel('time')\n",
    "axs[2].set_ylabel('Conductivity [µs/cm]')\n",
    "\n",
    "\n",
    "col_name = \"AVGVi\"\n",
    "upper, lower = outliers(df, col_name)\n",
    "\n",
    "filtered= df.loc[(df[col_name] > lower) & (df[col_name] < upper)].sort_values('datetime')\n",
    "axs[3].plot(filtered.index, filtered[col_name])\n",
    "axs[3].set_xlabel('time')\n",
    "axs[3].set_ylabel('Voltage [V]')\n",
    "\n",
    "\n",
    "col_name = \"Turb4\"\n",
    "upper, lower = outliers(df, col_name)\n",
    "\n",
    "filtered= df.loc[(df[col_name] > lower) & (df[col_name] < upper)].sort_values('datetime')\n",
    "axs[4].plot(filtered.index, filtered[col_name])\n",
    "axs[4].set_xlabel('time')\n",
    "axs[4].set_ylabel('Turbidity [NTU]')\n",
    "\n",
    "\n",
    "col_name = \"RWL\"\n",
    "upper, lower = outliers(df, col_name)\n",
    "\n",
    "filtered= df.loc[(df[col_name] > lower) & (df[col_name] < upper)].sort_values('datetime')\n",
    "axs[5].plot(filtered.index, filtered[col_name])\n",
    "axs[5].set_xlabel('time')\n",
    "axs[5].set_ylabel('Relative Water level [mm]')\n",
    "\n",
    "\n"
   ]
  },
  {
   "cell_type": "code",
   "execution_count": null,
   "metadata": {},
   "outputs": [],
   "source": [
    "fig2, ax = plt.subplots(1, 1 , figsize=(16,12))\n",
    "\n",
    "\n",
    "\n",
    "col_name = \"Temp4\"\n",
    "upper, lower = outliers(df, col_name)\n",
    "\n",
    "filtered= df.loc[(df[col_name] > lower) & (df[col_name] < upper)].sort_values('Temp3')\n",
    "ax.plot(filtered[\"Temp3\"], filtered[\"Temp4\"])\n",
    "ax.set_xlabel('Temp3')\n",
    "ax.set_ylabel('Temp4')\n"
   ]
  }
 ],
 "metadata": {
  "kernelspec": {
   "display_name": "Python 3.9.12 ('dali-intrusion-data-analysis')",
   "language": "python",
   "name": "python3"
  },
  "language_info": {
   "codemirror_mode": {
    "name": "ipython",
    "version": 3
   },
   "file_extension": ".py",
   "mimetype": "text/x-python",
   "name": "python",
   "nbconvert_exporter": "python",
   "pygments_lexer": "ipython3",
   "version": "3.9.12"
  },
  "orig_nbformat": 4,
  "vscode": {
   "interpreter": {
    "hash": "21feddff6a81f78d3f8656c36499382f4bfc95cee52fa0825f4b8cb40c39640b"
   }
  }
 },
 "nbformat": 4,
 "nbformat_minor": 2
}
