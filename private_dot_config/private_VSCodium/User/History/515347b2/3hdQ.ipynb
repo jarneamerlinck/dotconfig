{
 "cells": [
  {
   "cell_type": "markdown",
   "metadata": {},
   "source": [
    "# Hydromet\n"
   ]
  },
  {
   "cell_type": "markdown",
   "metadata": {},
   "source": [
    "## Import data"
   ]
  },
  {
   "cell_type": "code",
   "execution_count": null,
   "metadata": {},
   "outputs": [],
   "source": [
    "\n",
    "import warnings\n",
    "warnings.simplefilter(action='ignore', category=FutureWarning)\n",
    "import numpy as np\n",
    "import pandas as pd\n",
    "import glob\n",
    "\n",
    "# Packages below need to be installed manually\n",
    "import matplotlib.pyplot as plt\n",
    "from dotenv import load_dotenv\n",
    "import ftplib\n",
    "plt.rcParams[\"figure.figsize\"] = (20,16)"
   ]
  },
  {
   "cell_type": "markdown",
   "metadata": {},
   "source": [
    "Needed params in .env\n",
    "```\n",
    "FTP_SERVER=xxx\n",
    "FTP_USERNAME=xxx\n",
    "FTP_PASSWORD=xxx\n",
    "```"
   ]
  },
  {
   "cell_type": "code",
   "execution_count": null,
   "metadata": {},
   "outputs": [],
   "source": [
    "    \n",
    "def download_files(folder_local, folder_server, start_date):\n",
    "    if not os.path.exists(folder_local):\n",
    "        os.mkdir(folder_local)\n",
    "    \n",
    "    load_dotenv()\n",
    "    with ftplib.FTP(os.getenv(\"FTP_SERVER\"), os.getenv(\"FTP_USERNAME\"), os.getenv(\"FTP_PASSWORD\")) as ftp:\n",
    "        ftp.cwd(folder_server)\n",
    "        filenames = ftp.nlst()\n",
    "  \n",
    "        for filename in filenames:\n",
    "            date=int(filename[filename.index(\"_\", -20, -1)+1:filename.index(\"_\", -15, -1)])\n",
    "            if date>= start_date:\n",
    "                file_path = f\"../data/\" + folder_local + \"/\" + filename\n",
    "                if os.path.isfile(file_path):\n",
    "                    os.remove(file_path)\n",
    "                with open(file_path, \"ab\") as file:\n",
    "                    # Command for Downloading the file \"RETR filename\"\n",
    "                    ftp.retrbinary('RETR ' + filename, file.write)\n",
    "\n",
    "\n",
    "    \n",
    "    \n",
    "def get_values(path:str):\n",
    "    \n",
    "    df = pd.read_csv(path, sep=\";\" )\n",
    "    df = df[df.columns[1::2]]\n",
    "    df = pd.DataFrame.transpose(df)   \n",
    "    df = df.dropna(axis=0, how='all')\n",
    "    df = pd.DataFrame.transpose(df)   \n",
    "\n",
    "    df.columns.values[0] = 'time_temp'\n",
    "    df['time_temp'] = df['time_temp'].astype('int64')\n",
    "    df['time_temp'] = df['time_temp'].astype(str)\n",
    "    \n",
    "    temp = pd.to_datetime(df['time_temp'], format='%y%m%d%H%M%S')\n",
    "    df = df.loc[ : , df.columns != 'time_temp'].apply(pd.to_numeric, errors = 'coerce')\n",
    "\n",
    "    df = df.iloc[:, :-1]\n",
    "    \n",
    "    df[\"datetime\"] = temp\n",
    "    \n",
    "    return df\n",
    "\n",
    "def outliers(df, feature):\n",
    "    Q1= df[feature].quantile(0.25)\n",
    "    Q3 = df[feature].quantile(0.75)\n",
    "    IQR = Q3 - Q1\n",
    "    upper_limit = Q3 + 1.5 * IQR\n",
    "    lower_limit = Q1 - 1.5 * IQR\n",
    "    return upper_limit, lower_limit\n",
    "\n",
    "def make_dataframe(folder_local, folder_server, start_date):\n",
    "    \n",
    "    start=True\n",
    "    df=None\n",
    "    for filename in glob.glob(folder_local +\"*.txt\"):\n",
    "        date=int(filename[filename.index(\"_\", -20, -1)+1:filename.index(\"_\", -15, -1)])\n",
    "        if date>= start_date:\n",
    "            if start:  \n",
    "                df = get_values(filename) \n",
    "                start =False\n",
    "            else:\n",
    "                to_append = get_values(filename) \n",
    "                df = df.append(to_append, ignore_index=True)\n",
    "    if df is  None:\n",
    "        return None\n",
    "    col_names = [  \"AVGVi\",\"AVGCi\",\"OCi\",\"Temp4\",\"NTU4\", \"Turb4\",\"Temp3\",\"Conductivity\", \"A_samp\", \"Samples\", \"P1\", \"RWL\", \"geolux_TIS\", \"geolux_TW\", \"geolux_x\", \"geolux_y\", \"geolux_p_7\", \"datetime\"]\n",
    "\n",
    "    for i in range(len(col_names)):\n",
    "        df.columns.values[i] = col_names[i]\n",
    "        \n",
    "    df = df.set_index('datetime')\n",
    "    #os.rmtree(folder_local)\n",
    "    return df    \n"
   ]
  },
  {
   "cell_type": "code",
   "execution_count": null,
   "metadata": {},
   "outputs": [],
   "source": [
    "# Download files\n",
    "folder_local = \"../data/Hydromet/\"\n",
    "folder_server = \"Hydromet\"\n",
    "start_date=220822\n",
    "# Read all files\n",
    "download_files(folder_local, folder_server, start_date)\n",
    "df = make_dataframe(folder_local, folder_server, start_date)\n"
   ]
  },
  {
   "cell_type": "code",
   "execution_count": null,
   "metadata": {},
   "outputs": [],
   "source": [
    "df\n",
    "#df"
   ]
  },
  {
   "cell_type": "markdown",
   "metadata": {},
   "source": [
    "## Tests"
   ]
  },
  {
   "cell_type": "code",
   "execution_count": null,
   "metadata": {},
   "outputs": [],
   "source": [
    "test = get_values( \"../data/Hydromet/YDOC_Hydromet_test_unit_01_110052556_220825_090031.txt\")\n",
    "test\n"
   ]
  },
  {
   "cell_type": "code",
   "execution_count": null,
   "metadata": {},
   "outputs": [],
   "source": [
    "col_names = [  \"AVGVi\",\"AVGCi\",\"OCi\",\"Temp4\",\"NTU4\", \"Turb4\",\"Temp3\",\"Conductivity\", \"A_samp\", \"Samples\", \"P1\", \"RWL\", \"geolux_TIS\", \"geolux_TW\", \"geolux_x\", \"geolux_y\", \"geolux_p_7\", \"datetime\"]\n",
    "\n",
    "\n",
    "\n",
    "\n",
    "test.columns = col_names\n",
    "   \n",
    "#df = df.set_index('datetime')\n",
    "test"
   ]
  },
  {
   "cell_type": "markdown",
   "metadata": {},
   "source": [
    "## Inspect values"
   ]
  },
  {
   "cell_type": "code",
   "execution_count": null,
   "metadata": {},
   "outputs": [],
   "source": [
    "df"
   ]
  },
  {
   "cell_type": "code",
   "execution_count": null,
   "metadata": {},
   "outputs": [],
   "source": [
    "fig, axs = plt.subplots(6, 1 , figsize=(20,16))\n",
    "\n",
    "df = df[(df.index > '2022-08-22') ]\n",
    "\n",
    "\n",
    "col_name = \"geolux_TIS\"\n",
    "upper, lower = outliers(df, col_name)\n",
    "\n",
    "filtered= df.loc[(df[col_name] > lower) & (df[col_name] < upper)].sort_values('datetime')\n",
    "axs[0].plot(filtered.index, filtered[col_name])\n",
    "axs[0].set_xlabel('time')\n",
    "axs[0].set_ylabel('Temperature outside [°C]')\n",
    "\n",
    "\n",
    "col_name = \"Temp4\"\n",
    "upper, lower = outliers(df, col_name)\n",
    "\n",
    "filtered= df.loc[(df[col_name] > lower) & (df[col_name] < upper)].sort_values('datetime')\n",
    "axs[1].plot(filtered.index, filtered[col_name])\n",
    "axs[1].set_xlabel('time')\n",
    "axs[1].set_ylabel('Temperature water [°C]')\n",
    "\n",
    "\n",
    "col_name = \"Conductivity\"\n",
    "upper, lower = outliers(df, col_name)\n",
    "\n",
    "filtered= df.loc[(df[col_name] > lower) & (df[col_name] < upper)].sort_values('datetime')\n",
    "axs[2].plot(filtered.index, filtered[col_name])\n",
    "axs[2].set_xlabel('time')\n",
    "axs[2].set_ylabel('Conductivity [µs/cm]')\n",
    "\n",
    "\n",
    "col_name = \"AVGVi\"\n",
    "upper, lower = outliers(df, col_name)\n",
    "\n",
    "filtered= df.loc[(df[col_name] > lower) & (df[col_name] < upper)].sort_values('datetime')\n",
    "axs[3].plot(filtered.index, filtered[col_name])\n",
    "axs[3].set_xlabel('time')\n",
    "axs[3].set_ylabel('Voltage [V]')\n",
    "\n",
    "\n",
    "col_name = \"Turb4\"\n",
    "upper, lower = outliers(df, col_name)\n",
    "\n",
    "filtered= df.loc[(df[col_name] > lower) & (df[col_name] < upper)].sort_values('datetime')\n",
    "axs[4].plot(filtered.index, filtered[col_name])\n",
    "axs[4].set_xlabel('time')\n",
    "axs[4].set_ylabel('Turbidity [NTU]')\n",
    "\n",
    "\n",
    "col_name = \"RWL\"\n",
    "upper, lower = outliers(df, col_name)\n",
    "\n",
    "filtered= df.loc[(df[col_name] > lower) & (df[col_name] < upper)].sort_values('datetime')\n",
    "axs[5].plot(filtered.index, filtered[col_name])\n",
    "axs[5].set_xlabel('time')\n",
    "axs[5].set_ylabel('Relative Water level [mm]')\n",
    "\n",
    "\n"
   ]
  },
  {
   "cell_type": "code",
   "execution_count": null,
   "metadata": {},
   "outputs": [],
   "source": [
    "fig2, ax = plt.subplots(1, 1 , figsize=(16,12))\n",
    "\n",
    "\n",
    "\n",
    "col_name = \"Temp4\"\n",
    "upper, lower = outliers(df, col_name)\n",
    "\n",
    "filtered= df.loc[(df[col_name] > lower) & (df[col_name] < upper)].sort_values('Temp3')\n",
    "ax.plot(filtered[\"Temp3\"], filtered[\"Temp4\"])\n",
    "ax.set_xlabel('Temp3')\n",
    "ax.set_ylabel('Temp4')\n"
   ]
  }
 ],
 "metadata": {
  "kernelspec": {
   "display_name": "Python 3.7.13 ('pyiotdataflow')",
   "language": "python",
   "name": "python3"
  },
  "language_info": {
   "codemirror_mode": {
    "name": "ipython",
    "version": 3
   },
   "file_extension": ".py",
   "mimetype": "text/x-python",
   "name": "python",
   "nbconvert_exporter": "python",
   "pygments_lexer": "ipython3",
   "version": "3.7.13"
  },
  "orig_nbformat": 4,
  "vscode": {
   "interpreter": {
    "hash": "9a5e8fbb23ceec6fe44410afae2723d876dde8a59a88179184ea183507ad9ed0"
   }
  }
 },
 "nbformat": 4,
 "nbformat_minor": 2
}
